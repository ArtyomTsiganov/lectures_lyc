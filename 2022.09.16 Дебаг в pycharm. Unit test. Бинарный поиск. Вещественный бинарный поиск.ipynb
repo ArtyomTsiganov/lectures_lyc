{
 "cells": [
  {
   "cell_type": "markdown",
   "metadata": {
    "slideshow": {
     "slide_type": "slide"
    }
   },
   "source": [
    "# Дебаг \n",
    "## Debug in pycharm\n",
    "https://www.jetbrains.com/help/pycharm/debugging-your-first-python-application.html"
   ]
  },
  {
   "cell_type": "markdown",
   "metadata": {
    "slideshow": {
     "slide_type": "slide"
    }
   },
   "source": [
    "# Тестирование.\n",
    "## Unit test\n",
    "https://www.jetbrains.com/help/pycharm/testing-your-first-python-application.html#write-test"
   ]
  },
  {
   "cell_type": "markdown",
   "metadata": {},
   "source": [
    "# Поиск\n",
    "## Линейный поиск"
   ]
  },
  {
   "cell_type": "code",
   "execution_count": null,
   "metadata": {},
   "outputs": [],
   "source": [
    "def linsearch(a: list, s) -> int:\n",
    "    for i:int, el in enumerate(a):\n",
    "        if el == s:\n",
    "            return i"
   ]
  },
  {
   "cell_type": "markdown",
   "metadata": {},
   "source": [
    "## Вещественный линейный поиск"
   ]
  },
  {
   "cell_type": "code",
   "execution_count": null,
   "metadata": {},
   "outputs": [],
   "source": [
    "def linsearch(a: list, s) -> int:\n",
    "    for i:int, el in enumerate(a):\n",
    "        if (el - s) < 0.0005:\n",
    "            return i"
   ]
  },
  {
   "cell_type": "markdown",
   "metadata": {},
   "source": [
    "## Бинарный поиск"
   ]
  },
  {
   "cell_type": "code",
   "execution_count": 5,
   "metadata": {},
   "outputs": [],
   "source": [
    "m = sorted(list([el**2 for el in range(5)]) + list([-el**2 for el in range(5)]))"
   ]
  },
  {
   "cell_type": "code",
   "execution_count": 6,
   "metadata": {},
   "outputs": [
    {
     "data": {
      "text/plain": [
       "[-16, -9, -4, -1, 0, 0, 1, 4, 9, 16]"
      ]
     },
     "execution_count": 6,
     "metadata": {},
     "output_type": "execute_result"
    }
   ],
   "source": [
    "m"
   ]
  },
  {
   "cell_type": "code",
   "execution_count": null,
   "metadata": {},
   "outputs": [],
   "source": [
    "n/2**0 n/2**1  n/2**2 ...  n/2**k"
   ]
  },
  {
   "cell_type": "code",
   "execution_count": null,
   "metadata": {},
   "outputs": [],
   "source": [
    "def binsearch(a:list, s) -> int:\n",
    "    start = 0  # индекс первого элемента\n",
    "    finish = len(a)-1  # индекс последнего элемента\n",
    "\n",
    "    while start <= finish:\n",
    "        sred = (finish + start)//2  # индекс среднего элемента\n",
    "        if a[sred] < s:\n",
    "            start = sred + 1\n",
    "        elif a[sred] > s:\n",
    "            finish = sred - 1\n",
    "        else a[sred] == s:\n",
    "            return sred\n",
    "    \n",
    "    \n",
    "def binsearch2(a:list, s) -> int:\n",
    "    pass\n",
    "\n",
    "\n",
    "def binsearch_rec(a:list, s) -> int:\n",
    "    pass"
   ]
  },
  {
   "cell_type": "code",
   "execution_count": null,
   "metadata": {},
   "outputs": [],
   "source": [
    "def binsearch_rec(a:list, s, start=None, finish=None):\n",
    "    if start is None:\n",
    "        start = 0\n",
    "        finish = len(a)"
   ]
  },
  {
   "cell_type": "code",
   "execution_count": 8,
   "metadata": {},
   "outputs": [
    {
     "name": "stdout",
     "output_type": "stream",
     "text": [
      "0\n",
      "1\n",
      "2\n",
      "3\n",
      "4\n",
      "5\n"
     ]
    }
   ],
   "source": [
    "a = 0\n",
    "while True:\n",
    "    print(a)\n",
    "    if a == 5:\n",
    "        break\n",
    "    a += 1"
   ]
  },
  {
   "cell_type": "code",
   "execution_count": 11,
   "metadata": {},
   "outputs": [
    {
     "name": "stdout",
     "output_type": "stream",
     "text": [
      "0 hi\n",
      "0 end\n",
      "1 hi\n",
      "1 end\n",
      "2 hi\n",
      "2 end\n",
      "3 hi\n",
      "3 end\n",
      "4 hi\n",
      "4 end\n",
      "5 hi\n",
      "6 hi\n",
      "7 hi\n",
      "8 hi\n",
      "9 hi\n"
     ]
    }
   ],
   "source": [
    "a = 0\n",
    "while True:\n",
    "    if a >= 10:\n",
    "        break\n",
    "    print(a, 'hi')\n",
    "    if a >= 5:\n",
    "        a += 1\n",
    "        continue\n",
    "    print(a, 'end')\n",
    "    a += 1\n"
   ]
  },
  {
   "cell_type": "markdown",
   "metadata": {},
   "source": [
    "### Бинарный поиск по ответу"
   ]
  },
  {
   "cell_type": "code",
   "execution_count": null,
   "metadata": {},
   "outputs": [],
   "source": []
  },
  {
   "cell_type": "markdown",
   "metadata": {},
   "source": [
    "### Бинарный поиск вещественных чисел"
   ]
  },
  {
   "cell_type": "code",
   "execution_count": null,
   "metadata": {},
   "outputs": [],
   "source": []
  }
 ],
 "metadata": {
  "celltoolbar": "Необработанный формат ячейки",
  "kernelspec": {
   "display_name": "Python 3",
   "language": "python",
   "name": "python3"
  },
  "language_info": {
   "codemirror_mode": {
    "name": "ipython",
    "version": 3
   },
   "file_extension": ".py",
   "mimetype": "text/x-python",
   "name": "python",
   "nbconvert_exporter": "python",
   "pygments_lexer": "ipython3",
   "version": "3.8.6"
  }
 },
 "nbformat": 4,
 "nbformat_minor": 4
}
