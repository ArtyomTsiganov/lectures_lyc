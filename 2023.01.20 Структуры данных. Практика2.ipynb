{
 "cells": [
  {
   "cell_type": "markdown",
   "metadata": {},
   "source": [
    "Задачи\n",
    "\n",
    "1. Неповторяющиеся целые числа в массиве\n",
    "2. Сортировка значений в стеке\n",
    "3. Генерация двоичных чисел от 1 до N с помощью очереди\n",
    "4. Удаление дубликатов из связанного списка"
   ]
  },
  {
   "cell_type": "markdown",
   "metadata": {},
   "source": [
    "dz230120/\n",
    ">    struct_data.py  \n",
    ">    struct_data_test.py  \n",
    ">    dz.py\n",
    ">>        def unique_numbers(l: list) -> list:\n",
    ">>        def sort_stack(s: Stack) -> None:\n",
    ">>        def generate_binary_number(n: int) -> list[str]:\n",
    ">>        def del_dublicate_linked_list(l: DoubleLinkedList) -> None:\n",
    ">    dz_test.py"
   ]
  },
  {
   "cell_type": "code",
   "execution_count": 1,
   "metadata": {},
   "outputs": [],
   "source": [
    "a = list()"
   ]
  },
  {
   "cell_type": "code",
   "execution_count": 2,
   "metadata": {},
   "outputs": [
    {
     "data": {
      "text/plain": [
       "['__add__',\n",
       " '__class__',\n",
       " '__contains__',\n",
       " '__delattr__',\n",
       " '__delitem__',\n",
       " '__dir__',\n",
       " '__doc__',\n",
       " '__eq__',\n",
       " '__format__',\n",
       " '__ge__',\n",
       " '__getattribute__',\n",
       " '__getitem__',\n",
       " '__gt__',\n",
       " '__hash__',\n",
       " '__iadd__',\n",
       " '__imul__',\n",
       " '__init__',\n",
       " '__init_subclass__',\n",
       " '__iter__',\n",
       " '__le__',\n",
       " '__len__',\n",
       " '__lt__',\n",
       " '__mul__',\n",
       " '__ne__',\n",
       " '__new__',\n",
       " '__reduce__',\n",
       " '__reduce_ex__',\n",
       " '__repr__',\n",
       " '__reversed__',\n",
       " '__rmul__',\n",
       " '__setattr__',\n",
       " '__setitem__',\n",
       " '__sizeof__',\n",
       " '__str__',\n",
       " '__subclasshook__',\n",
       " 'append',\n",
       " 'clear',\n",
       " 'copy',\n",
       " 'count',\n",
       " 'extend',\n",
       " 'index',\n",
       " 'insert',\n",
       " 'pop',\n",
       " 'remove',\n",
       " 'reverse',\n",
       " 'sort']"
      ]
     },
     "execution_count": 2,
     "metadata": {},
     "output_type": "execute_result"
    }
   ],
   "source": [
    "dir(a)"
   ]
  },
  {
   "cell_type": "code",
   "execution_count": 3,
   "metadata": {},
   "outputs": [],
   "source": [
    "from collections import deque"
   ]
  },
  {
   "cell_type": "code",
   "execution_count": 4,
   "metadata": {},
   "outputs": [],
   "source": [
    "d = deque()"
   ]
  },
  {
   "cell_type": "code",
   "execution_count": 5,
   "metadata": {},
   "outputs": [
    {
     "data": {
      "text/plain": [
       "['__add__',\n",
       " '__bool__',\n",
       " '__class__',\n",
       " '__contains__',\n",
       " '__copy__',\n",
       " '__delattr__',\n",
       " '__delitem__',\n",
       " '__dir__',\n",
       " '__doc__',\n",
       " '__eq__',\n",
       " '__format__',\n",
       " '__ge__',\n",
       " '__getattribute__',\n",
       " '__getitem__',\n",
       " '__gt__',\n",
       " '__hash__',\n",
       " '__iadd__',\n",
       " '__imul__',\n",
       " '__init__',\n",
       " '__init_subclass__',\n",
       " '__iter__',\n",
       " '__le__',\n",
       " '__len__',\n",
       " '__lt__',\n",
       " '__mul__',\n",
       " '__ne__',\n",
       " '__new__',\n",
       " '__reduce__',\n",
       " '__reduce_ex__',\n",
       " '__repr__',\n",
       " '__reversed__',\n",
       " '__rmul__',\n",
       " '__setattr__',\n",
       " '__setitem__',\n",
       " '__sizeof__',\n",
       " '__str__',\n",
       " '__subclasshook__',\n",
       " 'append',\n",
       " 'appendleft',\n",
       " 'clear',\n",
       " 'copy',\n",
       " 'count',\n",
       " 'extend',\n",
       " 'extendleft',\n",
       " 'index',\n",
       " 'insert',\n",
       " 'maxlen',\n",
       " 'pop',\n",
       " 'popleft',\n",
       " 'remove',\n",
       " 'reverse',\n",
       " 'rotate']"
      ]
     },
     "execution_count": 5,
     "metadata": {},
     "output_type": "execute_result"
    }
   ],
   "source": [
    "dir(d)"
   ]
  },
  {
   "cell_type": "code",
   "execution_count": 12,
   "metadata": {},
   "outputs": [
    {
     "name": "stdout",
     "output_type": "stream",
     "text": [
      "Node: 5\n"
     ]
    }
   ],
   "source": [
    "a = Node(5)\n",
    "print(a)"
   ]
  },
  {
   "cell_type": "code",
   "execution_count": 23,
   "metadata": {},
   "outputs": [
    {
     "data": {
      "text/plain": [
       "5 -> 6 -> 7 -> 1 -> 2 -> 3 -> 4 -> None"
      ]
     },
     "execution_count": 23,
     "metadata": {},
     "output_type": "execute_result"
    }
   ],
   "source": [
    "a = LinkedList([5,6,7]) + LinkedList([1,2,3,4])\n",
    "a"
   ]
  },
  {
   "cell_type": "code",
   "execution_count": 19,
   "metadata": {},
   "outputs": [
    {
     "data": {
      "text/plain": [
       "4"
      ]
     },
     "execution_count": 19,
     "metadata": {},
     "output_type": "execute_result"
    }
   ],
   "source": [
    "len(a)"
   ]
  },
  {
   "cell_type": "code",
   "execution_count": null,
   "metadata": {},
   "outputs": [],
   "source": [
    "a.add_last(Node(6))"
   ]
  },
  {
   "cell_type": "code",
   "execution_count": null,
   "metadata": {},
   "outputs": [],
   "source": [
    "LinkedList.add_last(a, Node(6))"
   ]
  },
  {
   "cell_type": "code",
   "execution_count": 15,
   "metadata": {},
   "outputs": [
    {
     "name": "stdout",
     "output_type": "stream",
     "text": [
      "Node: 1\n",
      "Node: 2\n",
      "Node: 3\n",
      "Node: 4\n"
     ]
    }
   ],
   "source": [
    "for el in a:\n",
    "    print(el)"
   ]
  },
  {
   "cell_type": "code",
   "execution_count": 20,
   "metadata": {},
   "outputs": [],
   "source": [
    "class Node:\n",
    "    def __init__(self, data):\n",
    "        self.data = data\n",
    "        self.next: Node = None\n",
    "        self.previous: Node = None\n",
    "\n",
    "    def __repr__(self):\n",
    "        return \"Node: \" + str(self.data)\n",
    "\n",
    "    \n",
    "class LinkedList:\n",
    "    def __init__(self, nodes=None):\n",
    "        self.head = None\n",
    "        self.tail = None\n",
    "        self._len = 0\n",
    "        if nodes is not None:\n",
    "            node = Node(data=nodes.pop(0))\n",
    "            self.head = node\n",
    "            self.tail = node\n",
    "            self._len += 1\n",
    "            for elem in nodes:\n",
    "                node.next = Node(data=elem)\n",
    "                node = node.next\n",
    "                self.tail = node\n",
    "                self._len += 1\n",
    "            \n",
    "    def __len__(self):\n",
    "        return self._len\n",
    "    \n",
    "    def __add__(self, b:LinkedList):\n",
    "        self.tail.next = b.head\n",
    "        self.tail = b.tail\n",
    "        return self\n",
    "\n",
    "    def __repr__(self):\n",
    "        node = self.head\n",
    "        nodes = []\n",
    "        while node is not None:\n",
    "            nodes.append(str(node.data))\n",
    "            node = node.next\n",
    "        nodes.append(\"None\")\n",
    "        return \" -> \".join(nodes)\n",
    "    \n",
    "    def __iter__(self):\n",
    "        node = self.head\n",
    "        while node is not None:\n",
    "            yield node\n",
    "            node = node.next\n",
    "            \n",
    "    def add_first(self, node: Node):\n",
    "        node.next = self.head\n",
    "        self.head = node\n",
    "        \n",
    "    def add_last(self, node: Node):\n",
    "        self.tail.next = node\n",
    "        self.tail = node\n",
    "        \n",
    "    def search(self, target_node_data):\n",
    "        for node in self:\n",
    "            if node.data == target_node_data:\n",
    "                return node\n",
    "        \n",
    "    def add_after(self, target_node_data, new_node):\n",
    "        if self.head is None:\n",
    "            raise Exception(\"List is empty\")\n",
    "\n",
    "        node = self.search(target_node_data)\n",
    "        new_node.next = node.next\n",
    "        node.next = new_node\n",
    "        if self.tail == node:\n",
    "            self.tail = new_node\n",
    "        return\n",
    "\n",
    "        raise Exception(\"Node with data '%s' not found\" % target_node_data)\n",
    "        \n",
    "    def add_before(self, target_node_data, new_node):\n",
    "        if self.head is None:\n",
    "            raise Exception(\"List is empty\")\n",
    "\n",
    "        if self.head.data == target_node_data:\n",
    "            return self.add_first(new_node)\n",
    "\n",
    "        prev_node = self.head\n",
    "        for node in self:\n",
    "            if node.data == target_node_data:\n",
    "                prev_node.next = new_node\n",
    "                new_node.next = node\n",
    "                return\n",
    "            prev_node = node\n",
    "\n",
    "        raise Exception(\"Node with data '%s' not found\" % target_node_data)\n",
    "        \n",
    "    def remove_node(self, target_node_data):\n",
    "        if self.head is None:\n",
    "            raise Exception(\"List is empty\")\n",
    "\n",
    "        if self.head.data == target_node_data:\n",
    "            self.head = self.head.next\n",
    "            if self.head is None:\n",
    "                self.tail = None\n",
    "            return\n",
    "\n",
    "        previous_node = self.head\n",
    "        for node in self:\n",
    "            if node.data == target_node_data:\n",
    "                previous_node.next = node.next\n",
    "                if previous_node.next is None:\n",
    "                    self.tail = previous_node\n",
    "                return\n",
    "            previous_node = node\n",
    "\n",
    "        raise Exception(\"Node with data '%s' not found\" % target_node_data)"
   ]
  },
  {
   "cell_type": "code",
   "execution_count": 24,
   "metadata": {},
   "outputs": [],
   "source": [
    "a = [0]*5"
   ]
  },
  {
   "cell_type": "code",
   "execution_count": 25,
   "metadata": {},
   "outputs": [
    {
     "data": {
      "text/plain": [
       "[0, 0, 0, 0, 0]"
      ]
     },
     "execution_count": 25,
     "metadata": {},
     "output_type": "execute_result"
    }
   ],
   "source": [
    "a"
   ]
  },
  {
   "cell_type": "code",
   "execution_count": null,
   "metadata": {},
   "outputs": [],
   "source": []
  }
 ],
 "metadata": {
  "kernelspec": {
   "display_name": "Python 3",
   "language": "python",
   "name": "python3"
  },
  "language_info": {
   "codemirror_mode": {
    "name": "ipython",
    "version": 3
   },
   "file_extension": ".py",
   "mimetype": "text/x-python",
   "name": "python",
   "nbconvert_exporter": "python",
   "pygments_lexer": "ipython3",
   "version": "3.8.6"
  }
 },
 "nbformat": 4,
 "nbformat_minor": 4
}
