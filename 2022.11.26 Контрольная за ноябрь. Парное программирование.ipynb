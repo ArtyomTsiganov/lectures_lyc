{
 "cells": [
  {
   "cell_type": "markdown",
   "metadata": {},
   "source": [
    "1. (1) 112152 https://informatics.msk.ru/mod/statements/view.php?id=11098&chapterid=112152#1\n",
    "2. (1) 112171 https://informatics.msk.ru/mod/statements/view.php?id=11144&chapterid=112171#1\n",
    "3. (2) 112220 https://informatics.msk.ru/mod/statements/view.php?id=11145&chapterid=112220#1\n",
    "4. (2) 112232 https://informatics.msk.ru/mod/statements/view.php?id=11145&chapterid=112232#1\n",
    "5. (3) 112231 https://informatics.msk.ru/mod/statements/view.php?id=11145&chapterid=112231#1\n",
    "6. (3) 112185 https://informatics.msk.ru/mod/statements/view.php?id=11146&chapterid=112185#1\n",
    "7. (2) 112201 https://informatics.msk.ru/mod/statements/view.php?id=11147&chapterid=112201#1\n",
    "8. (2) 112262 https://informatics.msk.ru/mod/statements/view.php?id=11221&chapterid=112262#1\n",
    "9. (1) 112283 https://informatics.msk.ru/mod/statements/view.php?id=11223&chapterid=112283#1\n",
    "10. (3) 112327 https://informatics.msk.ru/mod/statements/view.php?id=11248&chapterid=112327#1\n",
    "11. (4) 1 https://informatics.msk.ru/mod/statements/view.php?id=11249&chapterid=1#1\n",
    "12. (4) 112418 https://informatics.msk.ru/mod/statements/view.php?id=11403&chapterid=112418#1\n",
    "13. (4) 112405 https://informatics.msk.ru/mod/statements/view.php?id=11405&chapterid=112405#1\n",
    "14. (1) 112480 https://informatics.msk.ru/mod/statements/view.php?id=11544&chapterid=112480#1"
   ]
  },
  {
   "cell_type": "code",
   "execution_count": null,
   "metadata": {},
   "outputs": [],
   "source": []
  },
  {
   "cell_type": "markdown",
   "metadata": {},
   "source": [
    "Обратная связь + 1 бал\n",
    "\n",
    "плюсы урока сегодня (или что понравилось)\n",
    "минусы урока сегодня (или что не понравилось)\n",
    "плюсы за 3 месяца\n",
    "минусы за 3 месяца\n",
    "\n",
    "в телеграмм\n"
   ]
  }
 ],
 "metadata": {
  "kernelspec": {
   "display_name": "Python 3",
   "language": "python",
   "name": "python3"
  },
  "language_info": {
   "codemirror_mode": {
    "name": "ipython",
    "version": 3
   },
   "file_extension": ".py",
   "mimetype": "text/x-python",
   "name": "python",
   "nbconvert_exporter": "python",
   "pygments_lexer": "ipython3",
   "version": "3.8.6"
  }
 },
 "nbformat": 4,
 "nbformat_minor": 4
}
