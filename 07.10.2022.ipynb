{
 "cells": [
  {
   "cell_type": "markdown",
   "metadata": {},
   "source": [
    "# Встроенные функции"
   ]
  },
  {
   "cell_type": "markdown",
   "metadata": {},
   "source": [
    "https://docs.python.org/3.9/library/functions.html"
   ]
  },
  {
   "cell_type": "code",
   "execution_count": 32,
   "metadata": {},
   "outputs": [
    {
     "data": {
      "text/plain": [
       "'3.8.6 (tags/v3.8.6:db45529, Sep 23 2020, 15:52:53) [MSC v.1927 64 bit (AMD64)]'"
      ]
     },
     "execution_count": 32,
     "metadata": {},
     "output_type": "execute_result"
    }
   ],
   "source": [
    "import sys\n",
    "sys.version"
   ]
  },
  {
   "cell_type": "markdown",
   "metadata": {},
   "source": [
    "# Исключения"
   ]
  },
  {
   "cell_type": "code",
   "execution_count": 34,
   "metadata": {},
   "outputs": [
    {
     "name": "stdout",
     "output_type": "stream",
     "text": [
      "вы плохой математик!\n"
     ]
    }
   ],
   "source": [
    "try:\n",
    "    1/0\n",
    "except ZeroDivisionError:\n",
    "    print(\"вы плохой математик!\")"
   ]
  },
  {
   "cell_type": "code",
   "execution_count": 36,
   "metadata": {},
   "outputs": [
    {
     "name": "stdout",
     "output_type": "stream",
     "text": [
      "list assignment index out of range\n"
     ]
    }
   ],
   "source": [
    "try:\n",
    "    a = []\n",
    "    a[0] = 45\n",
    "except IndexError as err:\n",
    "    print(err)"
   ]
  },
  {
   "cell_type": "code",
   "execution_count": 38,
   "metadata": {},
   "outputs": [
    {
     "name": "stdout",
     "output_type": "stream",
     "text": [
      "Ё-хо-хо!\n"
     ]
    }
   ],
   "source": [
    "try:\n",
    "    d = {}\n",
    "    d[[1,2,3]] = 4\n",
    "except Exception:\n",
    "    print(\"Ё-хо-хо!\")"
   ]
  },
  {
   "cell_type": "code",
   "execution_count": 42,
   "metadata": {},
   "outputs": [
    {
     "name": "stdout",
     "output_type": "stream",
     "text": [
      "ошибка ввода пользователя\n"
     ]
    }
   ],
   "source": [
    "class InputError(Exception):\n",
    "    pass\n",
    "\n",
    "try:\n",
    "    b = 0\n",
    "    if b == 0:\n",
    "        raise(InputError())\n",
    "except InputError:\n",
    "    print(\"ошибка ввода пользователя\")\n",
    "    \n",
    "# try:\n",
    "#     a = []\n",
    "#     a[0] = 5\n",
    "# except InputError:\n",
    "#     print(\"ошибка ввода пользователя\")"
   ]
  },
  {
   "cell_type": "code",
   "execution_count": 43,
   "metadata": {},
   "outputs": [
    {
     "ename": "InputError",
     "evalue": "",
     "output_type": "error",
     "traceback": [
      "\u001b[1;31m---------------------------------------------------------------------------\u001b[0m",
      "\u001b[1;31mInputError\u001b[0m                                Traceback (most recent call last)",
      "\u001b[1;32m<ipython-input-43-06470b3b2456>\u001b[0m in \u001b[0;36m<module>\u001b[1;34m\u001b[0m\n\u001b[1;32m----> 1\u001b[1;33m \u001b[1;32mraise\u001b[0m\u001b[1;33m(\u001b[0m\u001b[0mInputError\u001b[0m\u001b[1;33m(\u001b[0m\u001b[1;33m)\u001b[0m\u001b[1;33m)\u001b[0m\u001b[1;33m\u001b[0m\u001b[1;33m\u001b[0m\u001b[0m\n\u001b[0m",
      "\u001b[1;31mInputError\u001b[0m: "
     ]
    }
   ],
   "source": [
    "raise(InputError())"
   ]
  },
  {
   "cell_type": "code",
   "execution_count": 46,
   "metadata": {},
   "outputs": [],
   "source": [
    "try:\n",
    "    1/0\n",
    "except IndexError:\n",
    "    pass\n",
    "except ZeroDivisionError:\n",
    "    pass"
   ]
  },
  {
   "cell_type": "markdown",
   "metadata": {},
   "source": [
    "# sys.argv"
   ]
  },
  {
   "cell_type": "markdown",
   "metadata": {},
   "source": [
    "# Документирование"
   ]
  },
  {
   "cell_type": "code",
   "execution_count": null,
   "metadata": {},
   "outputs": [],
   "source": [
    "class TextSplitter:\n",
    "    \"\"\"Класс TextSplitter используется для разбивки текста на слова\n",
    "\n",
    "    Основное применение - парсинг логов на отдельные элементы\n",
    "    по указанному разделителю.\n",
    "\n",
    "    Note:\n",
    "        Возможны проблемы с кодировкой в Windows\n",
    "    \n",
    "    Attributes\n",
    "    ----------\n",
    "    file_path : str\n",
    "        полный путь до текстового файла\n",
    "    lines : list\n",
    "        список строк исходного файла\n",
    "\n",
    "    Methods\n",
    "    -------\n",
    "    load()\n",
    "        Читает файл и сохраняет его в виде списка строк в lines\n",
    "    get_splitted(split_symbol=\" \")\n",
    "        Разделяет строки списка по указанному разделителю\n",
    "        и возвращает результат в виде списка\n",
    "    \"\"\"\n",
    "\n",
    "    def __init__(self, file_path: str):\n",
    "        self.file_path = file_path.strip()\n",
    "        self.lines = []\n",
    "\n",
    "    def load(self) -> None:\n",
    "        \"\"\"Метод для загрузки файла в список строк lines\n",
    "\n",
    "        Raises\n",
    "        ------\n",
    "        Exception\n",
    "            Если файл пустой вызовется исключение\n",
    "        \"\"\"\n",
    "\n",
    "        with open(self.file_path, encoding=\"utf-8\") as f:\n",
    "            for line in f:\n",
    "                self.lines.append(line.rstrip('\\n'))\n",
    "            if len(self.lines) == 0:\n",
    "                raise Exception(f\"file {self.file_path} is empty\")\n",
    "\n",
    "    def get_splitted(self, split_symbol: str = \" \") -> list:\n",
    "        \"\"\"Разбивает текстовые строки lines, преобразуя строку в \n",
    "        список слов по разделителю\n",
    "\n",
    "        Если аргумент split_symbol не задан, в качестве разделителя\n",
    "        используется пробел\n",
    "\n",
    "        Parameters\n",
    "        ----------\n",
    "        split_symbol : str, optional\n",
    "            разделитель\n",
    "        \"\"\"\n",
    "\n",
    "        split_list = []\n",
    "        for str_line in self.lines:\n",
    "            split_list.append(str_line.split(split_symbol))\n",
    "        return split_list"
   ]
  },
  {
   "cell_type": "code",
   "execution_count": null,
   "metadata": {},
   "outputs": [],
   "source": []
  },
  {
   "cell_type": "code",
   "execution_count": null,
   "metadata": {},
   "outputs": [],
   "source": [
    "bool()  # преобразование в булев типа данных\n",
    "int()  # преобразование в целый тип\n",
    "float()  # преобразование в вещественное число\n",
    "str()  # преобразование в строку\n",
    "list()  # создание списков\n",
    "tuple()  # кортеж\n",
    "dict()  # словарь\n",
    "set()  # множество\n",
    "frozenset()  # неизменяемое множество\n",
    "iter()\n",
    "\n",
    "abs()  # абсолютное значение числа\n",
    "hex()  # преобразование в шестнадцатеричную систему счисления\n",
    "oct()  # преобразование в восьмеричную систему счисления\n",
    "bin()  # преобразование в двоичную систему\n",
    "\n",
    "ord()  # из символа код ascii\n",
    "chr()  # из инта в символ\n",
    "\n",
    "divmod()  # деление с остатком\n",
    "round()  # округление\n",
    "pow()  # возведение в степень\n",
    "complex()  # создание комплексного числа\n",
    "\n",
    "min()  # минимум списка\n",
    "max()  # максимум\n",
    "sum()  # сумма списк\n",
    "len()  # длинна списка\n",
    "slice()  # взятие среза\n",
    "sorted() # сортировка списка\n",
    "reversed() # разворот списка или кортежа (итерируемого объекта)\n",
    "all()  # логическое and для всех элементов списка\n",
    "any()  # логическое or для всех элементов списка\n",
    "\n",
    "enumerate()  # подсчет элементов списка\n",
    "filter()  # фильтрация списка по условию\n",
    "zip() # преобразование списков элементов в списки элементов\n",
    "range()  # создание упорядоченных списков\n",
    "map() # применение функции к каждому элементу (итерируемого объекта)\n",
    "\n",
    "\n",
    "input()  # ввод данных с консоли\n",
    "print()  # вывод на консоль\n",
    "\n",
    "open()  # открытие файла\n",
    "\n",
    "bytes()  # возвращает неизменяемое байтовое представление\n",
    "bytearray()  # возвращает изменяемое байтовое представление\n",
    "\n",
    "hash()  # возвращение хэша объекта\n",
    "repr()  # представление объектов в формальном строковом представлении которое можно подать интерпретатору\n",
    "ascii()  # как repr только не ascii символы экранируются чтобы остались только корректные ascii символы\n",
    "\n",
    "next()  # позволяет получить следующий элемент итератора\n",
    "\n",
    "isinstance()  # проверка принадлежности объекта классу\n",
    "issubclass()  # проверка наследования\n",
    "\n",
    "super()  # по объекту возвращает родительский класс\n",
    "\n",
    "delattr()  # удаление атрибута класса\n",
    "setattr()  # установка атрибута объекту\n",
    "hasattr()  # проверка на наличие атрибута\n",
    "getattr()  # взятие атрибута\n",
    "\n",
    "\n",
    "callable()  # можно ли объект выполнить как функцию (наличие метода __call__)\n",
    "\n",
    "staticmethod()  # делает метод статическим\n",
    "classmethod()  # делает метод методом класса\n",
    "property()  # определяет геттеры и сеттеры (get, set) методы для свойства\n",
    "\n",
    "memoryview()  # возвращает доступ к памяти объекта\n",
    "\n",
    "help()  # справка\n",
    "dir()  # список атрибутов объекта\n",
    "id()  # айди объекта\n",
    "type()  # тип объекта (или создание нового типа)\n",
    "\n",
    "eval()  # интерпретирование строки как кода python (выполняет только один оператор)\n",
    "exec()  # интерпретирование строки как кода python\n",
    "compile() # предкомпиляция в байт-код\n",
    "\n",
    "object()  # возвбращает самый базовый объект\n",
    "\n",
    "format() # форматирует объект по заданому значению\n",
    "# https://docs-python.ru/tutorial/vstroennye-funktsii-interpretatora-python/funktsija-format/\n",
    "\n",
    "globals()  # возвращает словарь со значениями переменных, представляющий текущую глобальную область видимости модуля.\n",
    "locals()  # возвращает словарь со значениями переменных, представляющий текущую локальную область видимости модуля.\n",
    "vars()  # возвращает атрибут __dict__ объекта, класс, модуля и тд\n",
    "\n",
    "breakpoint()  # точка останова\n",
    "\n",
    "__import__()  # импорт модуля"
   ]
  },
  {
   "cell_type": "code",
   "execution_count": 3,
   "metadata": {},
   "outputs": [
    {
     "data": {
      "text/plain": [
       "2.23606797749979"
      ]
     },
     "execution_count": 3,
     "metadata": {},
     "output_type": "execute_result"
    }
   ],
   "source": [
    "class A:\n",
    "    def __init__(self, x):\n",
    "        self.x = x\n",
    "        \n",
    "    @property\n",
    "    def sqrt(self):\n",
    "        return self.x**0.5\n",
    "    \n",
    "    @sqrt.getter\n",
    "    def sqrt(self):\n",
    "        return self.x**0.5\n",
    "    \n",
    "    @sqrt.setter\n",
    "    def sqrt(self, x):\n",
    "        self.x = x**2\n",
    "    \n",
    "a = A(5)\n",
    "a.sqrt"
   ]
  },
  {
   "cell_type": "code",
   "execution_count": 4,
   "metadata": {},
   "outputs": [],
   "source": [
    "a.sqrt = 25"
   ]
  },
  {
   "cell_type": "code",
   "execution_count": 5,
   "metadata": {},
   "outputs": [
    {
     "data": {
      "text/plain": [
       "625"
      ]
     },
     "execution_count": 5,
     "metadata": {},
     "output_type": "execute_result"
    }
   ],
   "source": [
    "a.x"
   ]
  },
  {
   "cell_type": "code",
   "execution_count": 136,
   "metadata": {},
   "outputs": [
    {
     "data": {
      "text/plain": [
       "6.0"
      ]
     },
     "execution_count": 136,
     "metadata": {},
     "output_type": "execute_result"
    }
   ],
   "source": [
    "class Triangle90:\n",
    "    def __init__(self, a,b,c):\n",
    "        self.a = a\n",
    "        self.b = b\n",
    "        self.c = c\n",
    "        \n",
    "    def square(self):\n",
    "        return self.a * self.b * 0.5\n",
    "    \n",
    "    @staticmethod\n",
    "    def sum_angle():\n",
    "        return 180\n",
    "    \n",
    "t = Triangle90(3,4,5)\n",
    "t.square()"
   ]
  },
  {
   "cell_type": "code",
   "execution_count": 138,
   "metadata": {},
   "outputs": [
    {
     "data": {
      "text/plain": [
       "(180, 180)"
      ]
     },
     "execution_count": 138,
     "metadata": {},
     "output_type": "execute_result"
    }
   ],
   "source": [
    "t.sum_angle(), Triangle90.sum_angle()"
   ]
  },
  {
   "cell_type": "code",
   "execution_count": 125,
   "metadata": {},
   "outputs": [
    {
     "data": {
      "text/plain": [
       "(True, True)"
      ]
     },
     "execution_count": 125,
     "metadata": {},
     "output_type": "execute_result"
    }
   ],
   "source": [
    "class A:\n",
    "    def __init__(self, x):\n",
    "        self.x = x\n",
    "        \n",
    "    def sqrt(self):\n",
    "        return self.x**2\n",
    "\n",
    "class B:\n",
    "    def __init__(self, x, y):\n",
    "        super().__init__(x)\n",
    "        self.y = y\n",
    "    \n",
    "a = A(5)\n",
    "hasattr(a, \"x\"), hasattr(a, \"sqrt\")"
   ]
  },
  {
   "cell_type": "code",
   "execution_count": 127,
   "metadata": {},
   "outputs": [
    {
     "data": {
      "text/plain": [
       "(25, 5)"
      ]
     },
     "execution_count": 127,
     "metadata": {},
     "output_type": "execute_result"
    }
   ],
   "source": [
    "getattr(a, \"sqrt\")(), getattr(a, \"x\")"
   ]
  },
  {
   "cell_type": "code",
   "execution_count": 128,
   "metadata": {},
   "outputs": [
    {
     "data": {
      "text/plain": [
       "True"
      ]
     },
     "execution_count": 128,
     "metadata": {},
     "output_type": "execute_result"
    }
   ],
   "source": [
    "callable(getattr(a, \"sqrt\"))"
   ]
  },
  {
   "cell_type": "code",
   "execution_count": 121,
   "metadata": {},
   "outputs": [
    {
     "name": "stdout",
     "output_type": "stream",
     "text": [
      "True\n",
      "False\n",
      "False\n",
      "True\n",
      "True\n"
     ]
    }
   ],
   "source": [
    "class A:\n",
    "    pass\n",
    "\n",
    "class B(A):\n",
    "    pass\n",
    "\n",
    "class C:\n",
    "    pass\n",
    "\n",
    "a = A()\n",
    "b = B()\n",
    "print(isinstance(a, A))\n",
    "print(isinstance(a, C))\n",
    "print(isinstance(a, B))\n",
    "print(issubclass(B, A))\n",
    "print(isinstance(b, A))"
   ]
  },
  {
   "cell_type": "code",
   "execution_count": 112,
   "metadata": {},
   "outputs": [
    {
     "name": "stdout",
     "output_type": "stream",
     "text": [
      "49\n",
      "50\n",
      "51\n"
     ]
    }
   ],
   "source": [
    "ba = bytearray('123', encoding=\"ascii\")\n",
    "for el in ba:\n",
    "    print(el)"
   ]
  },
  {
   "cell_type": "code",
   "execution_count": 115,
   "metadata": {},
   "outputs": [
    {
     "name": "stdout",
     "output_type": "stream",
     "text": [
      "194\n",
      "182\n",
      "49\n",
      "50\n",
      "51\n",
      "195\n",
      "182\n",
      "226\n",
      "153\n",
      "163\n",
      "208\n",
      "176\n",
      "208\n",
      "177\n",
      "208\n",
      "178\n"
     ]
    }
   ],
   "source": [
    "ba = bytearray('¶123ö♣абв', encoding=\"utf-8\")\n",
    "for el in ba:\n",
    "    print(el)"
   ]
  },
  {
   "cell_type": "code",
   "execution_count": 110,
   "metadata": {},
   "outputs": [
    {
     "data": {
      "text/plain": [
       "bytearray(b'123\\xc3\\xb6')"
      ]
     },
     "execution_count": 110,
     "metadata": {},
     "output_type": "execute_result"
    }
   ],
   "source": [
    "ba"
   ]
  },
  {
   "cell_type": "code",
   "execution_count": 98,
   "metadata": {},
   "outputs": [
    {
     "name": "stdout",
     "output_type": "stream",
     "text": [
      "3\n",
      "3\n",
      "4\n"
     ]
    }
   ],
   "source": [
    "for i in [1,2,3,4,5,6,7,8]:\n",
    "    if (p := i // 2) > 2:\n",
    "        print(p)"
   ]
  },
  {
   "cell_type": "code",
   "execution_count": 102,
   "metadata": {},
   "outputs": [
    {
     "data": {
      "text/plain": [
       "[3, 3, 4]"
      ]
     },
     "execution_count": 102,
     "metadata": {},
     "output_type": "execute_result"
    }
   ],
   "source": [
    "eval(\"list([p for el in range(9) if (p:=el//2) > 2])\")"
   ]
  },
  {
   "cell_type": "code",
   "execution_count": null,
   "metadata": {},
   "outputs": [],
   "source": [
    "0 = i"
   ]
  },
  {
   "cell_type": "code",
   "execution_count": 95,
   "metadata": {},
   "outputs": [
    {
     "ename": "SyntaxError",
     "evalue": "invalid syntax (<string>, line 1)",
     "output_type": "error",
     "traceback": [
      "Traceback \u001b[1;36m(most recent call last)\u001b[0m:\n",
      "  File \u001b[0;32m\"c:\\users\\pavel\\appdata\\local\\programs\\python\\python38\\lib\\site-packages\\IPython\\core\\interactiveshell.py\"\u001b[0m, line \u001b[0;32m3418\u001b[0m, in \u001b[0;35mrun_code\u001b[0m\n    exec(code_obj, self.user_global_ns, self.user_ns)\n",
      "\u001b[1;36m  File \u001b[1;32m\"<ipython-input-95-79fed556e1d1>\"\u001b[1;36m, line \u001b[1;32m1\u001b[1;36m, in \u001b[1;35m<module>\u001b[1;36m\u001b[0m\n\u001b[1;33m    eval(\"print(5);print(7)\")\u001b[0m\n",
      "\u001b[1;36m  File \u001b[1;32m\"<string>\"\u001b[1;36m, line \u001b[1;32m1\u001b[0m\n\u001b[1;33m    print(5);print(7)\u001b[0m\n\u001b[1;37m            ^\u001b[0m\n\u001b[1;31mSyntaxError\u001b[0m\u001b[1;31m:\u001b[0m invalid syntax\n"
     ]
    }
   ],
   "source": [
    "eval(\"print(5);print(7)\")"
   ]
  },
  {
   "cell_type": "code",
   "execution_count": 93,
   "metadata": {},
   "outputs": [
    {
     "name": "stdout",
     "output_type": "stream",
     "text": [
      "25\n"
     ]
    }
   ],
   "source": [
    "exec(\"\"\"\n",
    "def f(x):\n",
    "   return x**2\n",
    "\n",
    "print(f(5))\n",
    "\"\"\")"
   ]
  },
  {
   "cell_type": "code",
   "execution_count": 94,
   "metadata": {},
   "outputs": [
    {
     "data": {
      "text/plain": [
       "'[1, 2, 3]'"
      ]
     },
     "execution_count": 94,
     "metadata": {},
     "output_type": "execute_result"
    }
   ],
   "source": [
    "repr([1,2,3])"
   ]
  },
  {
   "cell_type": "code",
   "execution_count": 49,
   "metadata": {},
   "outputs": [
    {
     "data": {
      "text/plain": [
       "False"
      ]
     },
     "execution_count": 49,
     "metadata": {},
     "output_type": "execute_result"
    }
   ],
   "source": [
    "(lambda x: x > 1)(1)"
   ]
  },
  {
   "cell_type": "code",
   "execution_count": 51,
   "metadata": {},
   "outputs": [
    {
     "data": {
      "text/plain": [
       "[2, 3]"
      ]
     },
     "execution_count": 51,
     "metadata": {},
     "output_type": "execute_result"
    }
   ],
   "source": [
    "list(filter(lambda x: x > 1, [1,2,3]))"
   ]
  },
  {
   "cell_type": "code",
   "execution_count": 52,
   "metadata": {},
   "outputs": [
    {
     "data": {
      "text/plain": [
       "[(1, 4), (2, 5), (3, 6)]"
      ]
     },
     "execution_count": 52,
     "metadata": {},
     "output_type": "execute_result"
    }
   ],
   "source": [
    "list(zip((1,2,3), (4,5,6)))"
   ]
  },
  {
   "cell_type": "code",
   "execution_count": 54,
   "metadata": {},
   "outputs": [
    {
     "data": {
      "text/plain": [
       "[(1, 2, 3), (4, 5, 6)]"
      ]
     },
     "execution_count": 54,
     "metadata": {},
     "output_type": "execute_result"
    }
   ],
   "source": [
    "list(zip((1, 4), (2, 5), (3, 6)))"
   ]
  },
  {
   "cell_type": "code",
   "execution_count": 57,
   "metadata": {},
   "outputs": [
    {
     "data": {
      "text/plain": [
       "[(1,), (2,), (3,)]"
      ]
     },
     "execution_count": 57,
     "metadata": {},
     "output_type": "execute_result"
    }
   ],
   "source": [
    "list(zip({1:4, 2:5, 3:6}))"
   ]
  },
  {
   "cell_type": "code",
   "execution_count": 59,
   "metadata": {},
   "outputs": [
    {
     "name": "stdout",
     "output_type": "stream",
     "text": [
      "1\n",
      "2\n",
      "3\n"
     ]
    }
   ],
   "source": [
    "for el in {1:4, 2:5, 3:6}:\n",
    "    print(el)"
   ]
  },
  {
   "cell_type": "code",
   "execution_count": 55,
   "metadata": {},
   "outputs": [
    {
     "data": {
      "text/plain": [
       "[1, 4, 9]"
      ]
     },
     "execution_count": 55,
     "metadata": {},
     "output_type": "execute_result"
    }
   ],
   "source": [
    "list(map(lambda x: x**2, [1,2,3]))"
   ]
  },
  {
   "cell_type": "code",
   "execution_count": 56,
   "metadata": {},
   "outputs": [
    {
     "data": {
      "text/plain": [
       "[1, 4, 9]"
      ]
     },
     "execution_count": 56,
     "metadata": {},
     "output_type": "execute_result"
    }
   ],
   "source": [
    "def f(x):\n",
    "    return x**2\n",
    "list(map(f, [1,2,3]))"
   ]
  },
  {
   "cell_type": "code",
   "execution_count": 74,
   "metadata": {},
   "outputs": [],
   "source": [
    "def f():\n",
    "    a = [1,2,3,4]\n",
    "    i = 0\n",
    "    while i < len(a):\n",
    "        print(i)\n",
    "        yield a[i]\n",
    "        print(\"hi\")\n",
    "        i += 1"
   ]
  },
  {
   "cell_type": "code",
   "execution_count": null,
   "metadata": {},
   "outputs": [],
   "source": [
    "next(f())"
   ]
  },
  {
   "cell_type": "code",
   "execution_count": 79,
   "metadata": {},
   "outputs": [
    {
     "data": {
      "text/plain": [
       "<generator object f at 0x0000020E608CA820>"
      ]
     },
     "execution_count": 79,
     "metadata": {},
     "output_type": "execute_result"
    }
   ],
   "source": [
    "g = f()\n",
    "g"
   ]
  },
  {
   "cell_type": "code",
   "execution_count": 84,
   "metadata": {},
   "outputs": [
    {
     "name": "stdout",
     "output_type": "stream",
     "text": [
      "hi\n"
     ]
    },
    {
     "ename": "StopIteration",
     "evalue": "",
     "output_type": "error",
     "traceback": [
      "\u001b[1;31m---------------------------------------------------------------------------\u001b[0m",
      "\u001b[1;31mStopIteration\u001b[0m                             Traceback (most recent call last)",
      "\u001b[1;32m<ipython-input-84-e734f8aca5ac>\u001b[0m in \u001b[0;36m<module>\u001b[1;34m\u001b[0m\n\u001b[1;32m----> 1\u001b[1;33m \u001b[0mnext\u001b[0m\u001b[1;33m(\u001b[0m\u001b[0mg\u001b[0m\u001b[1;33m)\u001b[0m\u001b[1;33m\u001b[0m\u001b[1;33m\u001b[0m\u001b[0m\n\u001b[0m",
      "\u001b[1;31mStopIteration\u001b[0m: "
     ]
    }
   ],
   "source": [
    "next(g)"
   ]
  },
  {
   "cell_type": "code",
   "execution_count": 86,
   "metadata": {},
   "outputs": [],
   "source": [
    "it = iter([1,2,3])"
   ]
  },
  {
   "cell_type": "code",
   "execution_count": 89,
   "metadata": {},
   "outputs": [
    {
     "data": {
      "text/plain": [
       "3"
      ]
     },
     "execution_count": 89,
     "metadata": {},
     "output_type": "execute_result"
    }
   ],
   "source": [
    "next(it)"
   ]
  },
  {
   "cell_type": "code",
   "execution_count": null,
   "metadata": {},
   "outputs": [],
   "source": []
  },
  {
   "cell_type": "code",
   "execution_count": 31,
   "metadata": {},
   "outputs": [
    {
     "data": {
      "text/plain": [
       "3"
      ]
     },
     "execution_count": 31,
     "metadata": {},
     "output_type": "execute_result"
    }
   ],
   "source": [
    "int(bin(3), base=2)"
   ]
  },
  {
   "cell_type": "code",
   "execution_count": 25,
   "metadata": {},
   "outputs": [
    {
     "name": "stdout",
     "output_type": "stream",
     "text": [
      "ascii on Python set: {'E', '\\u0160', 'T'}\n"
     ]
    }
   ],
   "source": [
    "test_set = {\"Š\", \"E\", \"T\"}\n",
    "print(\"ascii on Python set:\", ascii(test_set))"
   ]
  },
  {
   "cell_type": "code",
   "execution_count": 22,
   "metadata": {},
   "outputs": [
    {
     "data": {
      "text/plain": [
       "97"
      ]
     },
     "execution_count": 22,
     "metadata": {},
     "output_type": "execute_result"
    }
   ],
   "source": [
    "ord('a')"
   ]
  },
  {
   "cell_type": "code",
   "execution_count": 21,
   "metadata": {},
   "outputs": [
    {
     "data": {
      "text/plain": [
       "'0b1010'"
      ]
     },
     "execution_count": 21,
     "metadata": {},
     "output_type": "execute_result"
    }
   ],
   "source": [
    "bin(10)"
   ]
  },
  {
   "cell_type": "code",
   "execution_count": 7,
   "metadata": {},
   "outputs": [
    {
     "data": {
      "text/plain": [
       "1"
      ]
     },
     "execution_count": 7,
     "metadata": {},
     "output_type": "execute_result"
    }
   ],
   "source": [
    "abs(-1)"
   ]
  },
  {
   "cell_type": "code",
   "execution_count": 11,
   "metadata": {},
   "outputs": [
    {
     "name": "stdout",
     "output_type": "stream",
     "text": [
      "5 6\n",
      "6\n"
     ]
    },
    {
     "ename": "AttributeError",
     "evalue": "'A' object has no attribute 'x'",
     "output_type": "error",
     "traceback": [
      "\u001b[1;31m---------------------------------------------------------------------------\u001b[0m",
      "\u001b[1;31mAttributeError\u001b[0m                            Traceback (most recent call last)",
      "\u001b[1;32m<ipython-input-11-289d4295ee38>\u001b[0m in \u001b[0;36m<module>\u001b[1;34m\u001b[0m\n\u001b[0;32m      8\u001b[0m \u001b[0mdelattr\u001b[0m\u001b[1;33m(\u001b[0m\u001b[0ma\u001b[0m\u001b[1;33m,\u001b[0m \u001b[1;34m\"x\"\u001b[0m\u001b[1;33m)\u001b[0m\u001b[1;33m\u001b[0m\u001b[1;33m\u001b[0m\u001b[0m\n\u001b[0;32m      9\u001b[0m \u001b[0mprint\u001b[0m\u001b[1;33m(\u001b[0m\u001b[0ma\u001b[0m\u001b[1;33m.\u001b[0m\u001b[0my\u001b[0m\u001b[1;33m)\u001b[0m\u001b[1;33m\u001b[0m\u001b[1;33m\u001b[0m\u001b[0m\n\u001b[1;32m---> 10\u001b[1;33m \u001b[0mprint\u001b[0m\u001b[1;33m(\u001b[0m\u001b[0ma\u001b[0m\u001b[1;33m.\u001b[0m\u001b[0mx\u001b[0m\u001b[1;33m)\u001b[0m\u001b[1;33m\u001b[0m\u001b[1;33m\u001b[0m\u001b[0m\n\u001b[0m",
      "\u001b[1;31mAttributeError\u001b[0m: 'A' object has no attribute 'x'"
     ]
    }
   ],
   "source": [
    "class A:\n",
    "    def __init__(self):\n",
    "        self.x = 5\n",
    "        self.y = 6\n",
    "\n",
    "a = A()\n",
    "print(a.x, a.y)\n",
    "delattr(a, \"x\")\n",
    "print(a.y)\n",
    "print(a.x)"
   ]
  },
  {
   "cell_type": "code",
   "execution_count": 14,
   "metadata": {},
   "outputs": [
    {
     "data": {
      "text/plain": [
       "141297095843"
      ]
     },
     "execution_count": 14,
     "metadata": {},
     "output_type": "execute_result"
    }
   ],
   "source": [
    "hash(a)"
   ]
  },
  {
   "cell_type": "code",
   "execution_count": 20,
   "metadata": {},
   "outputs": [
    {
     "data": {
      "text/plain": [
       "(2, 1)"
      ]
     },
     "execution_count": 20,
     "metadata": {},
     "output_type": "execute_result"
    }
   ],
   "source": [
    "divmod(5,2)"
   ]
  },
  {
   "cell_type": "code",
   "execution_count": 1,
   "metadata": {},
   "outputs": [
    {
     "data": {
      "text/plain": [
       "(1+3j)"
      ]
     },
     "execution_count": 1,
     "metadata": {},
     "output_type": "execute_result"
    }
   ],
   "source": [
    "complex(1,3)"
   ]
  },
  {
   "cell_type": "code",
   "execution_count": 4,
   "metadata": {},
   "outputs": [
    {
     "data": {
      "text/plain": [
       "([3, 2, 1], (3, 2, 1))"
      ]
     },
     "execution_count": 4,
     "metadata": {},
     "output_type": "execute_result"
    }
   ],
   "source": [
    "list(reversed([1,2,3])), tuple(reversed([1,2,3]))"
   ]
  },
  {
   "cell_type": "code",
   "execution_count": 5,
   "metadata": {},
   "outputs": [
    {
     "data": {
      "text/plain": [
       "[(1, 4), (2, 5), (3, 6)]"
      ]
     },
     "execution_count": 5,
     "metadata": {},
     "output_type": "execute_result"
    }
   ],
   "source": []
  },
  {
   "cell_type": "code",
   "execution_count": 6,
   "metadata": {},
   "outputs": [
    {
     "data": {
      "text/plain": [
       "[(1, 2, 3), (4, 5, 6)]"
      ]
     },
     "execution_count": 6,
     "metadata": {},
     "output_type": "execute_result"
    }
   ],
   "source": [
    "list(zip((1,4), (2, 5), (3, 6)))"
   ]
  },
  {
   "cell_type": "markdown",
   "metadata": {},
   "source": [
    "dz071022\n",
    "поиск подстроки в строке\n",
    "search_str - название проекта\n",
    "main.py\n",
    "def substring(s:str, substr: str) -> [int]\n",
    "документацию\n",
    "тесты\n",
    "if __name__ == __main__\n",
    "python main.py abcabcabc abc"
   ]
  },
  {
   "cell_type": "code",
   "execution_count": null,
   "metadata": {},
   "outputs": [],
   "source": [
    "sys.argv для класса с обработкой картинки"
   ]
  }
 ],
 "metadata": {
  "kernelspec": {
   "display_name": "Python 3",
   "language": "python",
   "name": "python3"
  },
  "language_info": {
   "codemirror_mode": {
    "name": "ipython",
    "version": 3
   },
   "file_extension": ".py",
   "mimetype": "text/x-python",
   "name": "python",
   "nbconvert_exporter": "python",
   "pygments_lexer": "ipython3",
   "version": "3.8.6"
  }
 },
 "nbformat": 4,
 "nbformat_minor": 4
}
