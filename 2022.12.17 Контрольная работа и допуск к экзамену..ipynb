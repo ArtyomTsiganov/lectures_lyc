{
 "cells": [
  {
   "cell_type": "code",
   "execution_count": null,
   "metadata": {},
   "outputs": [],
   "source": [
    "program4  сложить два двухбайтных числа например 350 351, \n",
    "                гарантируется что сумма не больше двух байт\n",
    "program5  умножить два однобайтных числа например 5 на 3, \n",
    "                гарантируется что произведение не больше одного байта\n",
    "program6  поменять местами два одно байтных значения в памяти например 80 и 75,\n",
    "            используя только эти ячейки памяти и регистр а. \n",
    "            можно использовать память для хранения переноса\n",
    "program7 подсчитать количество битов в байте\n",
    "\n",
    "\n",
    "program8 отдельная отметка если сделаете 198 страница"
   ]
  },
  {
   "cell_type": "code",
   "execution_count": null,
   "metadata": {},
   "outputs": [],
   "source": [
    "1010\n",
    "1000\n",
    "\n",
    "0100\n",
    "1000\n",
    "\n",
    "1000\n",
    "1000"
   ]
  },
  {
   "cell_type": "code",
   "execution_count": null,
   "metadata": {},
   "outputs": [],
   "source": [
    "1000\n",
    "1100 1000    0100 0000\n",
    "                  0010"
   ]
  },
  {
   "cell_type": "code",
   "execution_count": null,
   "metadata": {},
   "outputs": [],
   "source": [
    "1 4 9 16 25 36 49 64 81 100 121 144 169 196 225\n",
    "\n",
    "1 2 3 4  5   6 7   8  9  10  11  12  13  14  15 "
   ]
  }
 ],
 "metadata": {
  "kernelspec": {
   "display_name": "Python 3",
   "language": "python",
   "name": "python3"
  },
  "language_info": {
   "codemirror_mode": {
    "name": "ipython",
    "version": 3
   },
   "file_extension": ".py",
   "mimetype": "text/x-python",
   "name": "python",
   "nbconvert_exporter": "python",
   "pygments_lexer": "ipython3",
   "version": "3.8.6"
  }
 },
 "nbformat": 4,
 "nbformat_minor": 5
}
