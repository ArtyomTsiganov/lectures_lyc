{
 "cells": [
  {
   "cell_type": "code",
   "execution_count": null,
   "metadata": {},
   "outputs": [],
   "source": [
    "program4  сложить два двухбайтных числа например 350 351, \n",
    "                гарантируется что сумма не больше двух байт\n",
    "program5  умножить два однобайтных числа например 5 на 3, \n",
    "                гарантируется что произведение не больше одного байта\n",
    "program6  поменять местами два одно байтных значения в памяти например 80 и 75,\n",
    "            используя только эти ячейки памяти и регистр а. \n",
    "            можно использовать память для хранения переноса\n",
    "program7 подсчитать количество битов в байте"
   ]
  },
  {
   "cell_type": "code",
   "execution_count": null,
   "metadata": {},
   "outputs": [],
   "source": [
    "1010\n",
    "1000\n",
    "\n",
    "0100\n",
    "1000\n",
    "\n",
    "1000\n",
    "1000"
   ]
  }
 ],
 "metadata": {
  "kernelspec": {
   "display_name": "Python 3",
   "language": "python",
   "name": "python3"
  },
  "language_info": {
   "codemirror_mode": {
    "name": "ipython",
    "version": 3
   },
   "file_extension": ".py",
   "mimetype": "text/x-python",
   "name": "python",
   "nbconvert_exporter": "python",
   "pygments_lexer": "ipython3",
   "version": "3.8.6"
  }
 },
 "nbformat": 4,
 "nbformat_minor": 5
}
