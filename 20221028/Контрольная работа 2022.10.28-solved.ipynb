{
 "cells": [
  {
   "cell_type": "code",
   "execution_count": 24,
   "metadata": {},
   "outputs": [],
   "source": [
    "from PIL import Image\n",
    "import numpy as np\n",
    "from copy import deepcopy"
   ]
  },
  {
   "cell_type": "markdown",
   "metadata": {},
   "source": [
    "Вы работаете в ФСБ в отделе К подотделе шифрования.\n",
    "Спецагенты схватили трех шпионов и у каждого из них были изъяты улики.\n",
    "1. у певрого была бумашка со следующим содержимым: 1f933b5\n",
    "2. у второго была фотография 11.png\n",
    "3. у третьего была фотография 222.bmp\n",
    "\n",
    "После некоторых рассуждений вы решили начать с числа и для начала перевести его в десятичное представление"
   ]
  },
  {
   "cell_type": "code",
   "execution_count": null,
   "metadata": {},
   "outputs": [],
   "source": [
    "def hex_to_dec(value: str) -> str:\n",
    "    \"\"\"\n",
    "    Функция преобразует строку содержащую число в шестнадцатеричной системе счисления\n",
    "    в строку содержащую число в десятичной системе счисления\n",
    "    \"\"\"\n",
    "    pass"
   ]
  },
  {
   "cell_type": "code",
   "execution_count": null,
   "metadata": {},
   "outputs": [],
   "source": [
    "v1 = hex_to_dec(\"1f933b5\")"
   ]
  },
  {
   "cell_type": "code",
   "execution_count": null,
   "metadata": {},
   "outputs": [],
   "source": [
    "a   b  c  d  e  f\n",
    "10 11 12 13 14 15"
   ]
  },
  {
   "cell_type": "code",
   "execution_count": 88,
   "metadata": {},
   "outputs": [
    {
     "data": {
      "text/plain": [
       "33108917"
      ]
     },
     "execution_count": 88,
     "metadata": {},
     "output_type": "execute_result"
    }
   ],
   "source": [
    "5 + 11*16 + 3*16**2 + 3 * 16**3 + 9*16**4 + 15 * 16**5 + 1 * 16 **6"
   ]
  },
  {
   "cell_type": "code",
   "execution_count": 91,
   "metadata": {},
   "outputs": [],
   "source": [
    "v1 = 5 + 11*16 + 3*16**2 + 3 * 16**3 + 9*16**4 + 15 * 16**5 + 1 * 16 **6"
   ]
  },
  {
   "cell_type": "markdown",
   "metadata": {},
   "source": [
    "После получения числа в десятичном виде и осознания что другие данные связаны с изображениями. Вы решили попытаться понять какие еще числа вы можете получить из данного и решили разложить его на простые"
   ]
  },
  {
   "cell_type": "code",
   "execution_count": 90,
   "metadata": {},
   "outputs": [],
   "source": [
    "def devisors(value: int):\n",
    "    \"\"\"\n",
    "    Фукнция раскладывает число на простые множители\n",
    "    На вход подается только числа у которых таких множителей либо два, либо один (то есть оно уже простое).\n",
    "    \n",
    "    value: Натуральное число\n",
    "    \n",
    "    return Список двух простых чисел произведение которых дает исходное число\n",
    "    \n",
    "    \"\"\"\n",
    "    for i in range(2, int(np.sqrt(value))):\n",
    "        if value // i == value / i:\n",
    "            break\n",
    "    return value//i, value//(value//i)"
   ]
  },
  {
   "cell_type": "code",
   "execution_count": 93,
   "metadata": {},
   "outputs": [
    {
     "data": {
      "text/plain": [
       "(7369, 4493)"
      ]
     },
     "execution_count": 93,
     "metadata": {},
     "output_type": "execute_result"
    }
   ],
   "source": [
    "v2,v3 = devisors(v1)\n",
    "v2,v3"
   ]
  },
  {
   "cell_type": "markdown",
   "metadata": {},
   "source": [
    "Получив два числа вы увидели странности на изображении 11.png в верхнем левом углу и решили что там шифровка. Для начала вы попробовали преобразовать цифры в двоичный код и наложить на огрехи в изображении"
   ]
  },
  {
   "cell_type": "code",
   "execution_count": 96,
   "metadata": {},
   "outputs": [],
   "source": [
    "def dec_to_bin(value: int) -> str:\n",
    "    \"\"\"\n",
    "    Функция преобразует строку содержащую число из десятичной системы счисления \n",
    "    в строку содержащую число в двоичной системе счисления\n",
    "    \"\"\"\n",
    "    return bin(value)[2:]"
   ]
  },
  {
   "cell_type": "code",
   "execution_count": 97,
   "metadata": {},
   "outputs": [
    {
     "data": {
      "text/plain": [
       "('1110011001001', '1000110001101')"
      ]
     },
     "execution_count": 97,
     "metadata": {},
     "output_type": "execute_result"
    }
   ],
   "source": [
    "v4 = dec_to_bin(v2)\n",
    "v5 = dec_to_bin(v3)\n",
    "\n",
    "v4, v5"
   ]
  },
  {
   "cell_type": "code",
   "execution_count": 100,
   "metadata": {},
   "outputs": [
    {
     "data": {
      "text/plain": [
       "(13, 13)"
      ]
     },
     "execution_count": 100,
     "metadata": {},
     "output_type": "execute_result"
    }
   ],
   "source": [
    "len(v4), len(v5)"
   ]
  },
  {
   "cell_type": "code",
   "execution_count": null,
   "metadata": {},
   "outputs": [],
   "source": [
    "После чего вы выбрали те байты из изображения что находились на перекрестии строк и столбцов \n",
    "которые отвечали единицам двоичных чисел если их прислонить к изображению в верхний левый угол меньшее число\n",
    "по вертикали а большее по горизонтали"
   ]
  },
  {
   "cell_type": "code",
   "execution_count": 99,
   "metadata": {},
   "outputs": [],
   "source": [
    "filepath = \"11.png\"\n",
    "with Image.open(filepath) as img:\n",
    "    img.load()\n",
    "    img = np.asarray(img)\n",
    "new_img = deepcopy(img)"
   ]
  },
  {
   "cell_type": "markdown",
   "metadata": {},
   "source": [
    "  101\n",
    " \n",
    "1 101\n",
    "0 000\n",
    "1 101"
   ]
  },
  {
   "cell_type": "code",
   "execution_count": 101,
   "metadata": {},
   "outputs": [
    {
     "data": {
      "text/plain": [
       "array([[ 83,  75, 102,   0,   0, 102,  84,   0,   0,  94,   0,   0,  78],\n",
       "       [  0,   0,   0,   0,   0,   0,   0,   0,   0,   0,   0,   0,   0],\n",
       "       [  0,   0,   0,   0,   0,   0,   0,   0,   0,   0,   0,   0,   0],\n",
       "       [  0,   0,   0,   0,   0,   0,   0,   0,   0,   0,   0,   0,   0],\n",
       "       [ 32, 103,  75,   0,   0,  88,  87,   0,   0, 101,   0,   0, 102],\n",
       "       [102,  88,  84,   0,   0,  88, 102,   0,   0, 102,   0,   0,  80],\n",
       "       [  0,   0,   0,   0,   0,   0,   0,   0,   0,   0,   0,   0,   0],\n",
       "       [  0,   0,   0,   0,   0,   0,   0,   0,   0,   0,   0,   0,   0],\n",
       "       [  0,   0,   0,   0,   0,   0,   0,   0,   0,   0,   0,   0,   0],\n",
       "       [ 88,  84, 102,   0,   0,  83,  78,   0,   0,  93,   0,   0,  75],\n",
       "       [ 73,  84, 102,   0,   0, 102,  83,   0,   0,  75,   0,   0, 102],\n",
       "       [  0,   0,   0,   0,   0,   0,   0,   0,   0,   0,   0,   0,   0],\n",
       "       [102,  74,  75,   0,   0,  81, 103,   0,   0,  75,   0,   0,  88]],\n",
       "      dtype=uint8)"
      ]
     },
     "execution_count": 101,
     "metadata": {},
     "output_type": "execute_result"
    }
   ],
   "source": [
    "new_img[:13, :13]"
   ]
  },
  {
   "cell_type": "code",
   "execution_count": 103,
   "metadata": {},
   "outputs": [],
   "source": [
    "def get_bytes(bin1, bin2, img):\n",
    "    res = []\n",
    "    for rowi in range(len(v5)):\n",
    "        for coli in range(len(v4)):\n",
    "            if v5[rowi] == \"1\" and v4[coli] == \"1\":\n",
    "                res.append(img[rowi, coli])\n",
    "                \n",
    "    return res"
   ]
  },
  {
   "cell_type": "code",
   "execution_count": 104,
   "metadata": {},
   "outputs": [
    {
     "data": {
      "text/plain": [
       "[83,\n",
       " 75,\n",
       " 102,\n",
       " 102,\n",
       " 84,\n",
       " 94,\n",
       " 78,\n",
       " 32,\n",
       " 103,\n",
       " 75,\n",
       " 88,\n",
       " 87,\n",
       " 101,\n",
       " 102,\n",
       " 102,\n",
       " 88,\n",
       " 84,\n",
       " 88,\n",
       " 102,\n",
       " 102,\n",
       " 80,\n",
       " 88,\n",
       " 84,\n",
       " 102,\n",
       " 83,\n",
       " 78,\n",
       " 93,\n",
       " 75,\n",
       " 73,\n",
       " 84,\n",
       " 102,\n",
       " 102,\n",
       " 83,\n",
       " 75,\n",
       " 102,\n",
       " 102,\n",
       " 74,\n",
       " 75,\n",
       " 81,\n",
       " 103,\n",
       " 75,\n",
       " 88]"
      ]
     },
     "execution_count": 104,
     "metadata": {},
     "output_type": "execute_result"
    }
   ],
   "source": [
    "byte_array = get_bytes(v5, v4, new_img)\n",
    "byte_array"
   ]
  },
  {
   "cell_type": "markdown",
   "metadata": {},
   "source": [
    "Далее вы посмотрев на байты изображения уловили в них отголоски кодировки ascii и решили с помощью chr преобразовать их в символы, только всем кодам кроме 32 вы решили добавить 1000 чтобы быть в области русских букв"
   ]
  },
  {
   "cell_type": "code",
   "execution_count": 110,
   "metadata": {},
   "outputs": [
    {
     "data": {
      "text/plain": [
       "0"
      ]
     },
     "execution_count": 110,
     "metadata": {},
     "output_type": "execute_result"
    }
   ],
   "source": [
    "1 if 20 < 11 else 0"
   ]
  },
  {
   "cell_type": "code",
   "execution_count": 112,
   "metadata": {},
   "outputs": [
    {
     "data": {
      "text/plain": [
       "'Ј'"
      ]
     },
     "execution_count": 112,
     "metadata": {},
     "output_type": "execute_result"
    }
   ],
   "source": [
    "chr(1032)"
   ]
  },
  {
   "cell_type": "code",
   "execution_count": 114,
   "metadata": {},
   "outputs": [],
   "source": [
    "def get_chars(byte_array):\n",
    "    res = []\n",
    "    for el in byte_array:\n",
    "        if el == 32:\n",
    "            res.append(chr(32))\n",
    "        else:\n",
    "            res.append(chr(el+1000))\n",
    "    return res"
   ]
  },
  {
   "cell_type": "code",
   "execution_count": null,
   "metadata": {},
   "outputs": [],
   "source": [
    "def get_chars(byte_array):\n",
    "    res = []\n",
    "    for el in byte_array:\n",
    "        val = chr(32) if el == 32 else chr(el+1000)\n",
    "        res.append(val)\n",
    "    return res"
   ]
  },
  {
   "cell_type": "code",
   "execution_count": 107,
   "metadata": {},
   "outputs": [],
   "source": [
    "def get_chars(byte_array):\n",
    "    return list([chr(el + 1000) if el != 32 else \" \" for el in byte_array])"
   ]
  },
  {
   "cell_type": "code",
   "execution_count": 108,
   "metadata": {},
   "outputs": [
    {
     "data": {
      "text/plain": [
       "['л',\n",
       " 'г',\n",
       " 'ю',\n",
       " 'ю',\n",
       " 'м',\n",
       " 'ц',\n",
       " 'ж',\n",
       " ' ',\n",
       " 'я',\n",
       " 'г',\n",
       " 'р',\n",
       " 'п',\n",
       " 'э',\n",
       " 'ю',\n",
       " 'ю',\n",
       " 'р',\n",
       " 'м',\n",
       " 'р',\n",
       " 'ю',\n",
       " 'ю',\n",
       " 'и',\n",
       " 'р',\n",
       " 'м',\n",
       " 'ю',\n",
       " 'л',\n",
       " 'ж',\n",
       " 'х',\n",
       " 'г',\n",
       " 'б',\n",
       " 'м',\n",
       " 'ю',\n",
       " 'ю',\n",
       " 'л',\n",
       " 'г',\n",
       " 'ю',\n",
       " 'ю',\n",
       " 'в',\n",
       " 'г',\n",
       " 'й',\n",
       " 'я',\n",
       " 'г',\n",
       " 'р']"
      ]
     },
     "execution_count": 108,
     "metadata": {},
     "output_type": "execute_result"
    }
   ],
   "source": [
    "chars = get_chars(byte_array)\n",
    "chars"
   ]
  },
  {
   "cell_type": "markdown",
   "metadata": {},
   "source": [
    "Вы получили какую-то не очень длинную строчку. Возможно это ключ, но он тоже зашифрован. Вы решили попробовать самую простую кодировку - шифр Цезаря. И путем перебора расшифровали ключ. Как возможные символы попробовали взять алфавит с пробелом."
   ]
  },
  {
   "cell_type": "code",
   "execution_count": 115,
   "metadata": {},
   "outputs": [
    {
     "data": {
      "text/plain": [
       "34"
      ]
     },
     "execution_count": 115,
     "metadata": {},
     "output_type": "execute_result"
    }
   ],
   "source": [
    "s = \"абвгдеёжзийклмнопрстуфхцчшщъыьэюя \"\n",
    "len(s)"
   ]
  },
  {
   "cell_type": "code",
   "execution_count": 121,
   "metadata": {},
   "outputs": [],
   "source": [
    "def caesar_encryptor(text:str, n:int) -> str:\n",
    "    \"\"\"\n",
    "    Функция шифрует шифром Цезаря с шагом n (n это ключ) русские предложения (пробел добавляется в конец алфавита, \n",
    "    заглавные буквы идут перед строчными: \"АБВ...Яабв...я \") знаки припинания игнорируются. По достижению конца\n",
    "    алфавита отсчет начинается сначала.\n",
    "    Пусть например n = 2\n",
    "    Шифр цезаря это когда вместо А пишется В, вместо Б пишет Г сдвиг на две буквы\n",
    "    \n",
    "    caesar_encryptor(\"Всем привет!\", 1) -> \"ГтёнАрсйгёу\"\n",
    "    \"\"\"\n",
    "    pass\n",
    "\n",
    "\n",
    "def caesar_decryptor(text:str, step) -> str:\n",
    "    \"\"\"\n",
    "    Расшифровывает Шифр Цезаря \n",
    "    caesar_decryptor(caesar_encryptor(\"Всем привет!\", 1), 1) -> \"Всем привет\"\n",
    "    \"\"\"\n",
    "    s = \"абвгдеёжзийклмнопрстуфхцчшщъыьэюя \"\n",
    "    res = []\n",
    "    for ch in text:\n",
    "        res.append(s[s.index(ch) - step])\n",
    "    return \"\".join(res)\n",
    "    \n",
    "\n",
    "def caesar_brootforce(text:str):\n",
    "    \"\"\"\n",
    "    Перебор смещений пока не получится вменяемая строка\n",
    "    \"\"\"\n",
    "    s = \"абвгдеёжзийклмнопрстуфхцчшщъыьэюя \"\n",
    "    for i in range(len(s)):\n",
    "        print(i, caesar_decryptor(text, i))"
   ]
  },
  {
   "cell_type": "code",
   "execution_count": 122,
   "metadata": {},
   "outputs": [
    {
     "name": "stdout",
     "output_type": "stream",
     "text": [
      "0 лгююмцж ягрпэююрмрююирмюлжхгбмююлгюювгйягр\n",
      "1 квээлхёяювпоьээплпээзплэкёфвалээквээбвиювп\n",
      "2 йбьькфеюэбоныььокоььжокьйеуб кььйбььабзэбо\n",
      "3 иаыыйудэьанмъыынйныыёнйыидтаяйыыиаыы ажьан\n",
      "4 з ъъитгьы млщъъмимъъемиъзгс юиъъз ъъя ёы м\n",
      "5 жящщзсвыъялкшщщлзлщщдлзщжвряэзщщжящщюяеъял\n",
      "6 ёюшшжрбъщюкйчшшкжкшшгкжшёбпюьжшшёюшшэюдщюк\n",
      "7 еэччёпащшэйицччйёйччвйёчеаоэыёччеэччьэгшэй\n",
      "8 дьццео шчьизхцциеиццбиецд ньъеццдьццыьвчьи\n",
      "9 гыххднячцызжфххздзххаздхгямыщдххгыххъыбцыз\n",
      "10 въффгмюцхъжёуффжгжфф жгфвюлъшгффвъффщъахъж\n",
      "11 бщуувлэхфщёетууёвёууяёвубэкщчвуубщуушщ фщё\n",
      "12 ашттбкьфушедсттебеттюебтаьйшцбтташттчшяуше\n",
      "13  чссайыутчдгрссдадссэдас ыичхасс чссцчютчд\n",
      "14 яцрр иътсцгвпррг гррьг ряъзцф рряцррхцэсцг\n",
      "15 юхппязщсрхвбоппвявппывяпющжхуяппюхппфхьрхв\n",
      "16 эфооюжшрпфбанообюбооъбюоэшёфтюооэфооуфыпфб\n",
      "17 ьуннэёчпоуа мннаэаннщаэньчеусэнньуннтуъоуа\n",
      "18 ытммьецонт ялмм ь ммш ьмыцдтрьммытммстщнт \n",
      "19 ъсллыдхнмсяюклляыяллчяылъхгспыллъсллрсшмся\n",
      "20 щрккъгфмлрюэйккюъюккцюъкщфвроъккщрккпрчлрю\n",
      "21 шпййщвулкпэьиййэщэййхэщйшубпнщййшпййопцкпэ\n",
      "22 чоиишбткйоьызииьшьиифьшичтаомшиичоиинохйоь\n",
      "23 цнззчасйиныъжззычыззуычзцс нлчззцнззмнфины\n",
      "24 хмжжц ризмъщёжжъцъжжтъцжхрямкцжжхмжжлмузмъ\n",
      "25 флёёхяпзжлщшеёёщхщёёсщхёфпюлйхёёфлёёклтжлщ\n",
      "26 укеефюожёкшчдеешфшеершфеуоэкифееукеейксёкш\n",
      "27 тйддуэнёейчцгддчучддпчудтньйзуддтйддийрейч\n",
      "28 сиггтьмедицхвггцтцггоцтгсмыижтггсиггзипдиц\n",
      "29 рзввсылдгзхфбввхсхввнхсврлъзёсвврзввжзогзх\n",
      "30 пжббръкгвжфуаббфрфббмфрбпкщжерббпжббёжнвжф\n",
      "31 оёаапщйвбёут ааупуаалупаойшёдпааоёааеёмбёу\n",
      "32 не  ошибается  тот  кто ничего  не  делает\n",
      "33 мдяянчза дсрюяяснсяяйснямзцдвняямдяягдк дс\n"
     ]
    }
   ],
   "source": [
    "caesar_brootforce(\"\".join(chars))"
   ]
  },
  {
   "cell_type": "code",
   "execution_count": 123,
   "metadata": {},
   "outputs": [],
   "source": [
    "key1 = \"не  ошибается  тот  кто ничего  не  делает\""
   ]
  },
  {
   "cell_type": "code",
   "execution_count": 118,
   "metadata": {},
   "outputs": [
    {
     "data": {
      "text/plain": [
       "'aa-+bb-+cc'"
      ]
     },
     "execution_count": 118,
     "metadata": {},
     "output_type": "execute_result"
    }
   ],
   "source": [
    "\"-+\".join([\"aa\", \"bb\", \"cc\"])"
   ]
  },
  {
   "cell_type": "code",
   "execution_count": null,
   "metadata": {},
   "outputs": [],
   "source": [
    "abcde\n",
    "b\n",
    "1\n",
    "1-2\n",
    "-1\n"
   ]
  },
  {
   "cell_type": "code",
   "execution_count": 116,
   "metadata": {},
   "outputs": [
    {
     "data": {
      "text/plain": [
       "'e'"
      ]
     },
     "execution_count": 116,
     "metadata": {},
     "output_type": "execute_result"
    }
   ],
   "source": [
    "\"abcde\"[-1]"
   ]
  },
  {
   "cell_type": "code",
   "execution_count": null,
   "metadata": {},
   "outputs": [],
   "source": [
    "key1 = caesar_brootforce(chars)"
   ]
  },
  {
   "cell_type": "code",
   "execution_count": null,
   "metadata": {},
   "outputs": [],
   "source": [
    "после этого вы обратили свой взор на второе изображение. слишком оно обычное и не привлекает внимание. \n",
    "возможно в нем спрятано сообщение\n",
    "загрузив его вы решили посмотреть на четности чисел каждого пикселя и увидели что они совпадают всегда во всех трех каналах.\n",
    "а это означает что надо вытащить четности каждого пикселя как бинарный код"
   ]
  },
  {
   "cell_type": "code",
   "execution_count": null,
   "metadata": {},
   "outputs": [],
   "source": [
    "filepath = \"222.bmp\"\n",
    "with Image.open(filepath) as img:\n",
    "    img.load()\n",
    "    img = np.asarray(img)\n",
    "new_img = deepcopy(img)"
   ]
  },
  {
   "cell_type": "code",
   "execution_count": null,
   "metadata": {},
   "outputs": [],
   "source": [
    "def get_bin_array(img):\n",
    "    pass\n",
    "\n",
    "bin_array = get_bin_array(new_img)"
   ]
  },
  {
   "cell_type": "markdown",
   "metadata": {},
   "source": [
    "Далее вы разбили двоичный код по 8 бит и каждый преобразовали в десятичное число а затем и в букву аналогично тому как сделали это раньше (32 пробел к остальным надо добавить 1000 и взять chr)"
   ]
  },
  {
   "cell_type": "code",
   "execution_count": null,
   "metadata": {},
   "outputs": [],
   "source": [
    "def get_char_from_bin_array(bin_array):\n",
    "    pass\n",
    "\n",
    "\n",
    "char_array = get_char_from_bin_array(bin_array)"
   ]
  },
  {
   "cell_type": "markdown",
   "metadata": {},
   "source": [
    "сообщение оказалось длинным и зашифрованным. но у вас есть ключ. наудачу вы попробовали расшифровать код шифром Вижинера"
   ]
  },
  {
   "cell_type": "code",
   "execution_count": null,
   "metadata": {},
   "outputs": [],
   "source": []
  },
  {
   "cell_type": "code",
   "execution_count": null,
   "metadata": {},
   "outputs": [],
   "source": [
    "def vigenere_encryptor(text: str, key:str) -> str:\n",
    "    \"\"\"\n",
    "    Зашифровать с помощью шифра Вижинера. \n",
    "    Шифр Вижинера это продвинутый шифр Цезаря в котором ключ для шифра цезаря меняется каждую следующую букву.\n",
    "    Но меняется не случайно, а в соответствии с ключем-фразой для шифра Вижинера. Ключ-фраза определяет какой следующий\n",
    "    будет ключ для шифра Цезаря: берем следующую букву ключа Вижинера ищем ее порядок в алфавите \n",
    "    \"абвгдеёжзийклмнопрстуфхцчшщъыьэюя \" и этот индекс и есть \n",
    "    смещение-ключ для шифра Цезаря.\n",
    "    \"\"\"\n",
    "    pass\n",
    "\n",
    "\n",
    "def vigenere_decryptor(text: str, key:str) -> str:\n",
    "    \"\"\"\n",
    "    \"\"\"\n",
    "    pass"
   ]
  },
  {
   "cell_type": "code",
   "execution_count": null,
   "metadata": {},
   "outputs": [],
   "source": [
    "text = vigenere_decryptor(char_array, key1)"
   ]
  },
  {
   "cell_type": "code",
   "execution_count": 4,
   "metadata": {},
   "outputs": [],
   "source": [
    "import string"
   ]
  },
  {
   "cell_type": "code",
   "execution_count": 2,
   "metadata": {},
   "outputs": [
    {
     "data": {
      "text/plain": [
       "35"
      ]
     },
     "execution_count": 2,
     "metadata": {},
     "output_type": "execute_result"
    }
   ],
   "source": [
    "s = \"абвгдеёжзийклмнопрстуфхцчшщъыьэюя \"\n",
    "len(s)"
   ]
  }
 ],
 "metadata": {
  "kernelspec": {
   "display_name": "Python 3",
   "language": "python",
   "name": "python3"
  },
  "language_info": {
   "codemirror_mode": {
    "name": "ipython",
    "version": 3
   },
   "file_extension": ".py",
   "mimetype": "text/x-python",
   "name": "python",
   "nbconvert_exporter": "python",
   "pygments_lexer": "ipython3",
   "version": "3.8.6"
  }
 },
 "nbformat": 4,
 "nbformat_minor": 5
}
