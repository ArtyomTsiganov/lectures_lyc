{
 "cells": [
  {
   "cell_type": "code",
   "execution_count": 24,
   "metadata": {},
   "outputs": [],
   "source": [
    "from PIL import Image\n",
    "import numpy as np\n",
    "from copy import deepcopy"
   ]
  },
  {
   "cell_type": "markdown",
   "metadata": {},
   "source": [
    "Вы работаете в ФСБ в отделе К подотделе шифрования.\n",
    "Спецагенты схватили трех шпионов и у каждого из них были изъяты улики.\n",
    "1. у певрого была бумашка со следующим содержимым: 1f933b5\n",
    "2. у второго была фотография 11.png\n",
    "3. у третьего была фотография 222.bmp\n",
    "\n",
    "После некоторых рассуждений вы решили начать с числа и для начала перевести его в десятичное представление"
   ]
  },
  {
   "cell_type": "code",
   "execution_count": null,
   "metadata": {},
   "outputs": [],
   "source": [
    "def hex_to_dec(value: str) -> str:\n",
    "    \"\"\"\n",
    "    Функция преобразует строку содержащую число в шестнадцатеричной системе счисления\n",
    "    в строку содержащую число в десятичной системе счисления\n",
    "    \"\"\"\n",
    "    pass"
   ]
  },
  {
   "cell_type": "code",
   "execution_count": null,
   "metadata": {},
   "outputs": [],
   "source": [
    "v1 = hex_to_dec(\"1f933b5\")"
   ]
  },
  {
   "cell_type": "markdown",
   "metadata": {},
   "source": [
    "После получения числа в десятичном виде и осознания что другие данные связаны с изображениями. Вы решили попытаться понять какие еще числа вы можете получить из данного и решили разложить его на простые"
   ]
  },
  {
   "cell_type": "code",
   "execution_count": null,
   "metadata": {},
   "outputs": [],
   "source": [
    "def devisors(value: int) -> list[int]:\n",
    "    \"\"\"\n",
    "    Фукнция раскладывает число на простые множители\n",
    "    На вход подается только числа у которых таких множителей либо два, либо один (то есть оно уже простое).\n",
    "    \n",
    "    value: Натуральное число\n",
    "    \n",
    "    return Список двух простых чисел произведение которых дает исходное число\n",
    "    \n",
    "    \"\"\"\n",
    "    pass"
   ]
  },
  {
   "cell_type": "code",
   "execution_count": null,
   "metadata": {},
   "outputs": [],
   "source": [
    "v2,v3 = devisors(v1)"
   ]
  },
  {
   "cell_type": "markdown",
   "metadata": {},
   "source": [
    "Получив два числа вы увидели странности на изображении 11.png в верхнем левом углу и решили что там шифровка. Для начала вы попробовали преобразовать цифры в двоичный код и наложить на огрехи в изображении"
   ]
  },
  {
   "cell_type": "code",
   "execution_count": null,
   "metadata": {},
   "outputs": [],
   "source": [
    "def dec_to_bin(value: int) -> str:\n",
    "    \"\"\"\n",
    "    Функция преобразует строку содержащую число из десятичной системы счисления \n",
    "    в строку содержащую число в двоичной системе счисления\n",
    "    \"\"\"\n",
    "    pass"
   ]
  },
  {
   "cell_type": "code",
   "execution_count": null,
   "metadata": {},
   "outputs": [],
   "source": [
    "v4 = dec_to_bin(v2)\n",
    "v5 = dec_to_bin(v3)"
   ]
  },
  {
   "cell_type": "code",
   "execution_count": null,
   "metadata": {},
   "outputs": [],
   "source": [
    "После чего вы выбрали те байты из изображения что находились на перекрестии строк и столбцов \n",
    "которые отвечали единицам двоичных чисел если их прислонить к изображению в верхний левый угол меньшее число\n",
    "по вертикали а большее по горизонтали"
   ]
  },
  {
   "cell_type": "code",
   "execution_count": null,
   "metadata": {},
   "outputs": [],
   "source": [
    "filepath = \"11.png\"\n",
    "with Image.open(filepath) as img:\n",
    "    img.load()\n",
    "img = np.asarray(img)\n",
    "new_img = deepcopy(img)"
   ]
  },
  {
   "cell_type": "markdown",
   "metadata": {},
   "source": [
    "  101\n",
    " \n",
    "1 101\n",
    "0 000\n",
    "1 101"
   ]
  },
  {
   "cell_type": "code",
   "execution_count": null,
   "metadata": {},
   "outputs": [],
   "source": [
    "def get_bytes(bin1, bin2, img):\n",
    "    pass"
   ]
  },
  {
   "cell_type": "code",
   "execution_count": null,
   "metadata": {},
   "outputs": [],
   "source": [
    "byte_array = get_bytes(v4, v5, new_img)"
   ]
  },
  {
   "cell_type": "markdown",
   "metadata": {},
   "source": [
    "Далее вы посмотрев на байты изображения уловили в них отголоски кодировки ascii и решили с помощью chr преобразовать их в символы, только всем кодам кроме 32 вы решили добавить 1000 чтобы быть в области русских букв"
   ]
  },
  {
   "cell_type": "code",
   "execution_count": null,
   "metadata": {},
   "outputs": [],
   "source": [
    "def get_chars(byte_array):\n",
    "    pass"
   ]
  },
  {
   "cell_type": "code",
   "execution_count": null,
   "metadata": {},
   "outputs": [],
   "source": [
    "chars = get_chars(byte_array)"
   ]
  },
  {
   "cell_type": "markdown",
   "metadata": {},
   "source": [
    "Вы получили какую-то не очень длинную строчку. Возможно это ключ, но он тоже зашифрован. Вы решили попробовать самую простую кодировку - шифр Цезаря. И путем перебора расшифровали ключ. Как возможные символы попробовали взять алфавит с пробелом."
   ]
  },
  {
   "cell_type": "code",
   "execution_count": null,
   "metadata": {},
   "outputs": [],
   "source": [
    "s = \"абвгдеёжзийклмнопрстуфхцчшщъыьэюя \"\n",
    "len(s)"
   ]
  },
  {
   "cell_type": "code",
   "execution_count": null,
   "metadata": {},
   "outputs": [],
   "source": [
    "def caesar_encryptor(text:str, n:int) -> str:\n",
    "    \"\"\"\n",
    "    Функция шифрует шифром Цезаря с шагом n (n это ключ) русские предложения (пробел добавляется в конец алфавита, \n",
    "    заглавные буквы идут перед строчными: \"АБВ...Яабв...я \") знаки припинания игнорируются. По достижению конца\n",
    "    алфавита отсчет начинается сначала.\n",
    "    Пусть например n = 2\n",
    "    Шифр цезаря это когда вместо А пишется В, вместо Б пишет Г сдвиг на две буквы\n",
    "    \n",
    "    caesar_encryptor(\"Всем привет!\", 1) -> \"ГтёнАрсйгёу\"\n",
    "    \"\"\"\n",
    "    pass\n",
    "\n",
    "\n",
    "def caesar_decryptor(text:str) -> str:\n",
    "    \"\"\"\n",
    "    Расшифровывает Шифр Цезаря \n",
    "    caesar_decryptor(caesar_encryptor(\"Всем привет!\", 1), 1) -> \"Всем привет\"\n",
    "    \"\"\"\n",
    "    pass\n",
    "\n",
    "def caesar_brootforce(test:str):\n",
    "    \"\"\"\n",
    "    Перебор смещений пока не получится вменяемая строка\n",
    "    \"\"\""
   ]
  },
  {
   "cell_type": "code",
   "execution_count": null,
   "metadata": {},
   "outputs": [],
   "source": [
    "key1 = caesar_brootforce(chars)"
   ]
  },
  {
   "cell_type": "code",
   "execution_count": null,
   "metadata": {},
   "outputs": [],
   "source": [
    "после этого вы обратили свой взор на второе изображение. слишком оно обычное и не привлекает внимание. \n",
    "возможно в нем спрятано сообщение\n",
    "загрузив его вы решили посмотреть на четности чисел каждого пикселя и увидели что они совпадают всегда во всех трех каналах.\n",
    "а это означает что надо вытащить четности каждого пикселя как бинарный код"
   ]
  },
  {
   "cell_type": "code",
   "execution_count": null,
   "metadata": {},
   "outputs": [],
   "source": [
    "filepath = \"222.bmp\"\n",
    "with Image.open(filepath) as img:\n",
    "    img.load()\n",
    "img = np.asarray(img)\n",
    "new_img = deepcopy(img)"
   ]
  },
  {
   "cell_type": "code",
   "execution_count": null,
   "metadata": {},
   "outputs": [],
   "source": [
    "def get_bin_array(img):\n",
    "    pass\n",
    "\n",
    "bin_array = get_bin_array(new_img)"
   ]
  },
  {
   "cell_type": "markdown",
   "metadata": {},
   "source": [
    "Далее вы разбили двоичный код по 8 бит и каждый преобразовали в десятичное число а затем и в букву аналогично тому как сделали это раньше (32 пробел к остальным надо добавить 1000 и взять chr)"
   ]
  },
  {
   "cell_type": "code",
   "execution_count": null,
   "metadata": {},
   "outputs": [],
   "source": [
    "def get_char_from_bin_array(bin_array):\n",
    "    pass\n",
    "\n",
    "\n",
    "char_array = get_char_from_bin_array(bin_array)"
   ]
  },
  {
   "cell_type": "markdown",
   "metadata": {},
   "source": [
    "сообщение оказалось длинным и зашифрованным. но у вас есть ключ. наудачу вы попробовали расшифровать код шифром Вижинера"
   ]
  },
  {
   "cell_type": "code",
   "execution_count": null,
   "metadata": {},
   "outputs": [],
   "source": []
  },
  {
   "cell_type": "code",
   "execution_count": null,
   "metadata": {},
   "outputs": [],
   "source": [
    "def vigenere_encryptor(text: str, key:str) -> str:\n",
    "    \"\"\"\n",
    "    Зашифровать с помощью шифра Вижинера. \n",
    "    Шифр Вижинера это продвинутый шифр Цезаря в котором ключ для шифра цезаря меняется каждую следующую букву.\n",
    "    Но меняется не случайно, а в соответствии с ключем-фразой для шифра Вижинера. Ключ-фраза определяет какой следующий\n",
    "    будет ключ для шифра Цезаря: берем следующую букву ключа Вижинера ищем ее порядок в алфавите \n",
    "    \"абвгдеёжзийклмнопрстуфхцчшщъыьэюя \" и этот индекс и есть \n",
    "    смещение-ключ для шифра Цезаря.\n",
    "    \"\"\"\n",
    "    pass\n",
    "\n",
    "\n",
    "def vigenere_decryptor(text: str, key:str) -> str:\n",
    "    \"\"\"\n",
    "    \"\"\"\n",
    "    pass"
   ]
  },
  {
   "cell_type": "code",
   "execution_count": null,
   "metadata": {},
   "outputs": [],
   "source": [
    "text = vigenere_decryptor(char_array, key1)"
   ]
  },
  {
   "cell_type": "code",
   "execution_count": 4,
   "metadata": {},
   "outputs": [],
   "source": [
    "import string"
   ]
  },
  {
   "cell_type": "code",
   "execution_count": 2,
   "metadata": {},
   "outputs": [
    {
     "data": {
      "text/plain": [
       "35"
      ]
     },
     "execution_count": 2,
     "metadata": {},
     "output_type": "execute_result"
    }
   ],
   "source": [
    "s = \"абвгдеёжзийклмнопрстуфхцчшщъыьэюя \"\n",
    "len(s)"
   ]
  }
 ],
 "metadata": {
  "kernelspec": {
   "display_name": "Python 3",
   "language": "python",
   "name": "python3"
  },
  "language_info": {
   "codemirror_mode": {
    "name": "ipython",
    "version": 3
   },
   "file_extension": ".py",
   "mimetype": "text/x-python",
   "name": "python",
   "nbconvert_exporter": "python",
   "pygments_lexer": "ipython3",
   "version": "3.8.6"
  }
 },
 "nbformat": 4,
 "nbformat_minor": 5
}
