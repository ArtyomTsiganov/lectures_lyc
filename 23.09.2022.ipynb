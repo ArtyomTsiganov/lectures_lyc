{
 "cells": [
  {
   "cell_type": "code",
   "execution_count": null,
   "metadata": {},
   "outputs": [],
   "source": [
    "1 2 3 4  5  6  7  8  9\n",
    "1 2 3 4  5  4  3  2  1\n",
    "1 3 6 10 15 19 22 24 25\n",
    "\n"
   ]
  },
  {
   "cell_type": "code",
   "execution_count": null,
   "metadata": {},
   "outputs": [],
   "source": [
    "1 1 1 1   k      k  k k+p    где p < k\n",
    "1 2 3    [n/2]        n\n",
    "\n",
    "четное\n",
    "1 1 1 1   k     k  k k+p\n",
    "1 2 3     n/2        n\n",
    "\n",
    "\n",
    "\n",
    "k = (m ) // (n - (n/2 - 1))\n",
    "\n",
    "\n",
    "нечетное\n",
    "1 1 1 1   k         k k p\n",
    "1 2 3    (n+1)/2        n\n"
   ]
  },
  {
   "cell_type": "markdown",
   "metadata": {},
   "source": [
    "Поиск минимума/максимума"
   ]
  },
  {
   "cell_type": "code",
   "execution_count": 1,
   "metadata": {},
   "outputs": [],
   "source": [
    "import random"
   ]
  },
  {
   "cell_type": "code",
   "execution_count": 7,
   "metadata": {},
   "outputs": [],
   "source": [
    "a = [-random.randint(1, 10) for _ in range(10)]"
   ]
  },
  {
   "cell_type": "code",
   "execution_count": 8,
   "metadata": {},
   "outputs": [
    {
     "data": {
      "text/plain": [
       "[-5, -6, -3, -6, -9, -6, -4, -2, -5, -1]"
      ]
     },
     "execution_count": 8,
     "metadata": {},
     "output_type": "execute_result"
    }
   ],
   "source": [
    "a"
   ]
  },
  {
   "cell_type": "code",
   "execution_count": 12,
   "metadata": {},
   "outputs": [],
   "source": [
    "def search_max(a:list) -> int:\n",
    "    m = a[0]\n",
    "    i_m = 0\n",
    "    for i, el in enumerate(a):\n",
    "        if el > m:\n",
    "            m = el\n",
    "            i_m = i\n",
    "    return i_m"
   ]
  },
  {
   "cell_type": "code",
   "execution_count": 13,
   "metadata": {},
   "outputs": [
    {
     "data": {
      "text/plain": [
       "-1"
      ]
     },
     "execution_count": 13,
     "metadata": {},
     "output_type": "execute_result"
    }
   ],
   "source": [
    "search_max(a)"
   ]
  },
  {
   "cell_type": "code",
   "execution_count": null,
   "metadata": {},
   "outputs": [],
   "source": [
    "def search_max(a:list) -> int:\n",
    "    m = a[0]\n",
    "    i_m = 0\n",
    "    for i, el in enumerate(a[::-1]):\n",
    "        if el > m:\n",
    "            m = el\n",
    "            i_m = i\n",
    "    return len(a) - i_m"
   ]
  },
  {
   "cell_type": "markdown",
   "metadata": {},
   "source": [
    "# Пример задачи\n"
   ]
  },
  {
   "cell_type": "code",
   "execution_count": null,
   "metadata": {},
   "outputs": [],
   "source": [
    "1 2 1 2 1  войны\n",
    "3 10 1 1 1 стрелы\n",
    "\n",
    "\n",
    "1 3 4 6 7\n",
    "\n",
    "\n",
    "[ )"
   ]
  },
  {
   "cell_type": "code",
   "execution_count": null,
   "metadata": {},
   "outputs": [],
   "source": [
    "3\n",
    "a = [(\"mike\",  3),\n",
    " (\"andrew\",  5),\n",
    " (\"mike\",  2),\n",
    "]"
   ]
  },
  {
   "cell_type": "code",
   "execution_count": null,
   "metadata": {},
   "outputs": [],
   "source": [
    "d = {}\n",
    "max_val = 0\n",
    "max_name = None\n",
    "dd = {}\n",
    "\n",
    "for name, val in a:\n",
    "    if name not in d:\n",
    "        d[name] = val\n",
    "    else:\n",
    "        d[name] += val\n",
    "        \n",
    "    if d_name[name] > 0:\n",
    "        if d_name[name] not in dd:\n",
    "                dd[d_name[name]] = {\"l\": [name]}\n",
    "        else:\n",
    "            if name not in dd[i][\"l\"]:\n",
    "                dd[d_name[name]][\"l\"].append(name)\n",
    "                        \n",
    "\n",
    "    \n",
    "        \n",
    "m = max(d.values())\n",
    "names = {name for name in d.keys() if d[name] == m}\n",
    "\n",
    "return [name for name in dd[m] if name in names][0]\n",
    "\n",
    "if len(names) == 1:\n",
    "    for name in names:\n",
    "        return name"
   ]
  },
  {
   "cell_type": "markdown",
   "metadata": {},
   "source": [
    "# Сложность алгоритма"
   ]
  },
  {
   "cell_type": "code",
   "execution_count": null,
   "metadata": {},
   "outputs": [],
   "source": [
    "lim(f(n)/n) = const"
   ]
  },
  {
   "cell_type": "code",
   "execution_count": 21,
   "metadata": {},
   "outputs": [],
   "source": [
    "import matplotlib.pyplot as plt\n",
    "%matplotlib inline\n",
    "import numpy as np"
   ]
  },
  {
   "cell_type": "code",
   "execution_count": null,
   "metadata": {},
   "outputs": [],
   "source": [
    "f(n) = 2n + 2"
   ]
  },
  {
   "cell_type": "code",
   "execution_count": 23,
   "metadata": {},
   "outputs": [
    {
     "name": "stderr",
     "output_type": "stream",
     "text": [
      "<ipython-input-23-cd79d5f81682>:1: RuntimeWarning: divide by zero encountered in log\n",
      "  np.log([el for el in range(10)])\n"
     ]
    },
    {
     "data": {
      "text/plain": [
       "array([      -inf, 0.        , 0.69314718, 1.09861229, 1.38629436,\n",
       "       1.60943791, 1.79175947, 1.94591015, 2.07944154, 2.19722458])"
      ]
     },
     "execution_count": 23,
     "metadata": {},
     "output_type": "execute_result"
    }
   ],
   "source": [
    "np.log([el for el in range(10)])"
   ]
  },
  {
   "cell_type": "code",
   "execution_count": 28,
   "metadata": {},
   "outputs": [
    {
     "name": "stderr",
     "output_type": "stream",
     "text": [
      "<ipython-input-28-b04c1e4456f5>:1: RuntimeWarning: divide by zero encountered in log\n",
      "  plt.plot(range(10), np.log([el for el in range(10)]),\n",
      "<ipython-input-28-b04c1e4456f5>:4: RuntimeWarning: divide by zero encountered in log\n",
      "  range(10), [el * np.log(el) for el in range(10)])\n",
      "<ipython-input-28-b04c1e4456f5>:4: RuntimeWarning: invalid value encountered in double_scalars\n",
      "  range(10), [el * np.log(el) for el in range(10)])\n"
     ]
    },
    {
     "data": {
      "text/plain": [
       "[<matplotlib.lines.Line2D at 0x1dc6782a280>,\n",
       " <matplotlib.lines.Line2D at 0x1dc6782a100>,\n",
       " <matplotlib.lines.Line2D at 0x1dc6782a3d0>,\n",
       " <matplotlib.lines.Line2D at 0x1dc6782a490>]"
      ]
     },
     "execution_count": 28,
     "metadata": {},
     "output_type": "execute_result"
    },
    {
     "data": {
      "image/png": "[encoded data removed]",
      "text/plain": [
       "<Figure size 432x288 with 1 Axes>"
      ]
     },
     "metadata": {
      "needs_background": "light"
     },
     "output_type": "display_data"
    }
   ],
   "source": [
    "plt.plot(range(10), np.log([el for el in range(10)]), \n",
    "         range(10), [el for el in range(10)], \n",
    "         range(10), [el**2 for el in range(10)],\n",
    "        range(10), [el * np.log(el) for el in range(10)])"
   ]
  },
  {
   "cell_type": "code",
   "execution_count": 27,
   "metadata": {},
   "outputs": [
    {
     "data": {
      "text/plain": [
       "4.605170185988092"
      ]
     },
     "execution_count": 27,
     "metadata": {},
     "output_type": "execute_result"
    }
   ],
   "source": [
    "np.log(100)"
   ]
  },
  {
   "cell_type": "code",
   "execution_count": 14,
   "metadata": {},
   "outputs": [
    {
     "data": {
      "text/plain": [
       "[1, 2]"
      ]
     },
     "execution_count": 14,
     "metadata": {},
     "output_type": "execute_result"
    }
   ],
   "source": [
    "list(map(int, [\"1\", \"2\"]))"
   ]
  },
  {
   "cell_type": "code",
   "execution_count": null,
   "metadata": {},
   "outputs": [],
   "source": [
    "lim(f(n)/n**2) = const"
   ]
  },
  {
   "cell_type": "code",
   "execution_count": null,
   "metadata": {},
   "outputs": [],
   "source": [
    "(an**2 + bn + c)/n**2 = a"
   ]
  },
  {
   "cell_type": "code",
   "execution_count": null,
   "metadata": {},
   "outputs": [],
   "source": [
    "O(n) := f(n)/n lim -> const\n",
    "o(n) := f(n)/n lim -> 0"
   ]
  },
  {
   "cell_type": "markdown",
   "metadata": {},
   "source": [
    "# Сортировка вставками"
   ]
  },
  {
   "cell_type": "code",
   "execution_count": 29,
   "metadata": {},
   "outputs": [],
   "source": [
    "a = [random.randint(1, 10) for _ in range(10)]"
   ]
  },
  {
   "cell_type": "code",
   "execution_count": 30,
   "metadata": {},
   "outputs": [
    {
     "data": {
      "text/plain": [
       "[6, 1, 10, 6, 1, 4, 8, 3, 9, 9]"
      ]
     },
     "execution_count": 30,
     "metadata": {},
     "output_type": "execute_result"
    }
   ],
   "source": [
    "a"
   ]
  },
  {
   "cell_type": "code",
   "execution_count": null,
   "metadata": {},
   "outputs": [],
   "source": [
    "def search_min(a, start, finish):\n",
    "    m = a[start]\n",
    "    min_i = start\n",
    "    for i in range(start, finish+1):\n",
    "        if a[i] < m:\n",
    "            m = a[i]\n",
    "            min_i = i\n",
    "    return m\n",
    "            \n",
    "\n",
    "def sort_v(a):\n",
    "    start = 0\n",
    "    finish = len(a)\n",
    "    res = []\n",
    "    for i in range(finish):\n",
    "        m = search_min(a, start, finish)\n",
    "        res.append()\n",
    "        "
   ]
  }
 ],
 "metadata": {
  "kernelspec": {
   "display_name": "Python 3",
   "language": "python",
   "name": "python3"
  },
  "language_info": {
   "codemirror_mode": {
    "name": "ipython",
    "version": 3
   },
   "file_extension": ".py",
   "mimetype": "text/x-python",
   "name": "python",
   "nbconvert_exporter": "python",
   "pygments_lexer": "ipython3",
   "version": "3.8.6"
  }
 },
 "nbformat": 4,
 "nbformat_minor": 4
}
