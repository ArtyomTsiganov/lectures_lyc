{
 "cells": [
  {
   "cell_type": "markdown",
   "metadata": {},
   "source": [
    "# Число перестановок без возвращения"
   ]
  },
  {
   "cell_type": "code",
   "execution_count": null,
   "metadata": {},
   "outputs": [],
   "source": [
    "a,b,c,d,e    n\n",
    "\n",
    "1 2 3 4 5    n\n"
   ]
  },
  {
   "cell_type": "code",
   "execution_count": null,
   "metadata": {},
   "outputs": [],
   "source": [
    "a b [c,d,e]\n",
    "  c [b,d,e]\n",
    "  d [b,c,e]\n",
    "  e [b,c,d]\n",
    "\n",
    "b [a,c,d,e]\n",
    "\n",
    "c [a,b,d,e]\n",
    "\n",
    "d [a,b,c,e]\n",
    "\n",
    "e [a,b,c,d]\n",
    "\n",
    "\n",
    "5 * 4 * 3 * 2 * 1\n",
    "\n"
   ]
  },
  {
   "cell_type": "markdown",
   "metadata": {},
   "source": [
    "$$P_n = n!$$"
   ]
  },
  {
   "cell_type": "markdown",
   "metadata": {},
   "source": [
    "# Число перестановок с повторениями"
   ]
  },
  {
   "cell_type": "code",
   "execution_count": null,
   "metadata": {},
   "outputs": [],
   "source": [
    "a,b,c,d,e      n\n",
    " \n",
    "1,2,3,4,5      n\n",
    "\n",
    "5 * 5 * 5 * 5 * 5"
   ]
  },
  {
   "cell_type": "markdown",
   "metadata": {},
   "source": [
    "$$\\overline{P}_n = n^n$$"
   ]
  },
  {
   "cell_type": "markdown",
   "metadata": {},
   "source": [
    "# Число размещений без повторений"
   ]
  },
  {
   "cell_type": "code",
   "execution_count": null,
   "metadata": {},
   "outputs": [],
   "source": [
    "a,b,c,d,e   n\n",
    "\n",
    "1,2,3      k\n",
    "\n",
    "\n",
    "5 * 4 * 3        5!/2!\n",
    "\n",
    "\n",
    "n!/(n-k)!"
   ]
  },
  {
   "cell_type": "markdown",
   "metadata": {},
   "source": [
    "$$A_n^k = \\frac{n!}{(n-k)!}$$"
   ]
  },
  {
   "cell_type": "markdown",
   "metadata": {},
   "source": [
    "$A_n^n = P_n$"
   ]
  },
  {
   "cell_type": "markdown",
   "metadata": {},
   "source": [
    "# Число размещений с повторениями"
   ]
  },
  {
   "cell_type": "code",
   "execution_count": null,
   "metadata": {},
   "outputs": [],
   "source": [
    "a,b,c,d,e   n\n",
    "\n",
    "1,2,3       k\n",
    "\n",
    "5 * 5 * 5"
   ]
  },
  {
   "cell_type": "markdown",
   "metadata": {},
   "source": [
    "$$\\overline{A}_n^k = n^k$$"
   ]
  },
  {
   "cell_type": "markdown",
   "metadata": {},
   "source": [
    "# Число сочетаний"
   ]
  },
  {
   "cell_type": "code",
   "execution_count": null,
   "metadata": {},
   "outputs": [],
   "source": [
    "a,b,c,d,e    n\n",
    "\n",
    "{_, _, _}        k     \n",
    "\n",
    "\n",
    "a,b,c  = b,a,c  итд\n",
    "\n",
    "\n",
    "a,b,c\n",
    "b,c,a\n",
    "c,a,b\n",
    "a,c,b\n",
    "c,b,a\n",
    "b,a,c\n",
    "\n",
    "\n",
    "k!"
   ]
  },
  {
   "cell_type": "markdown",
   "metadata": {},
   "source": [
    "$$ C_n^k = \\frac{n!}{k!(n-k)!} $$"
   ]
  },
  {
   "cell_type": "markdown",
   "metadata": {},
   "source": [
    "$ C_n^k = \\frac{A_n^k}{k!} $"
   ]
  },
  {
   "cell_type": "markdown",
   "metadata": {},
   "source": [
    "# Число сочетаний с повторениями"
   ]
  },
  {
   "cell_type": "markdown",
   "metadata": {},
   "source": [
    "$\\overline{C}_n^k = C_{k + n -1}^k$"
   ]
  },
  {
   "cell_type": "code",
   "execution_count": null,
   "metadata": {},
   "outputs": [],
   "source": [
    "a,b,c,d,e\n",
    "\n",
    "{_,_,_}     k"
   ]
  },
  {
   "cell_type": "markdown",
   "metadata": {},
   "source": [
    "# Среднее"
   ]
  },
  {
   "cell_type": "code",
   "execution_count": 1,
   "metadata": {},
   "outputs": [
    {
     "data": {
      "text/plain": [
       "3.5"
      ]
     },
     "execution_count": 1,
     "metadata": {},
     "output_type": "execute_result"
    }
   ],
   "source": [
    "import numpy as np\n",
    "a = [1,2,3,4,5,6]\n",
    "np.mean(a)"
   ]
  },
  {
   "cell_type": "code",
   "execution_count": null,
   "metadata": {},
   "outputs": [],
   "source": [
    "(1 + 2 + 3 + 4 + 5 + 6)/6"
   ]
  },
  {
   "cell_type": "markdown",
   "metadata": {},
   "source": [
    "Если бы нам платили столько рублей сколько выпадает на верхней грани кубика\n",
    "то сколько бы рублей у нас было через n бросков?"
   ]
  },
  {
   "cell_type": "markdown",
   "metadata": {},
   "source": [
    "m * n - столько рублей примерно у нас было бы через n бросков "
   ]
  },
  {
   "cell_type": "code",
   "execution_count": null,
   "metadata": {},
   "outputs": [],
   "source": [
    "(1 + 1 1 1 1 2 2 2 3 3 4 4 5 5 5 5 5 5 6)\n",
    "\n",
    "\n",
    "(1 * 5 + 2 * 3 + 3 * 2 + 4 * 2 + 5 * 6 + 6 * 1)/19\n",
    "\n",
    "\n",
    "1 * 5/19 + 2 * 3/19 + 3 * 2/19 + 4 * 2/19 + 5 * 6/19 + 6 * 1/19\n",
    "\n"
   ]
  },
  {
   "cell_type": "markdown",
   "metadata": {},
   "source": [
    "$m(x) = \\sum{x_i \\cdot p_i}$"
   ]
  },
  {
   "cell_type": "markdown",
   "metadata": {},
   "source": [
    "# Информационная энтропия (Формула Шеннона)"
   ]
  },
  {
   "cell_type": "markdown",
   "metadata": {},
   "source": [
    "численно равна количеству информации на символ передаваемого сообщения"
   ]
  },
  {
   "cell_type": "markdown",
   "metadata": {},
   "source": [
    "Ранее мы изучили формулу Хартли для равномерного кодирования:  \n",
    "$I = K \\cdot log_2(N)$  \n",
    "Где N — количество символов в используемом алфавите (мощность алфавита), K — длина сообщения (количество символов в сообщении), I — количество информации в сообщении в битах.\n",
    "\n",
    "Напомним что формула Хартли подразумевает равномерное кодирование, а значит равновероятность символов. Если символов N то чтобы закодировать один из них нужно $log_2(N)$ бит. Объем информации измеряется в битах. Следовательно для равномерного кодирования каждый символ несет $log_2(N)$ Информации, а все сообщения длинны К несет в K раз больше информации."
   ]
  },
  {
   "cell_type": "markdown",
   "metadata": {},
   "source": [
    "Пусть у нас есть сообщение символами и с разной частотой которую мы учитываем в двоичном кодировании\n",
    "\n",
    "А А А Б Б С \n",
    "\n",
    "Чем чаще встречается символ в сообщении тем меньшим числом бит его хочется кодировать. Представим, что каждая буква сообщения может записываться не одним символом, а несколькими  например А может быть записана А1 или А2 и количество таких симоволов для каждой буквы такое, что значение $ K_i \\cdot N_i $ совпадают.\n",
    "\n",
    "[А1|А2] [А1|А2] [А1|А2] [Б1|Б2|Б3] [Б1|Б2|Б3] [С1|С2|С3|С4|С5|С6]\n",
    "\n",
    "\n",
    "Тогда мы можем для каждого отдельной буквы применить формулу Хартли считая, что мы получили три сообщения каждое со своей буквой. \n",
    "\n",
    "$3 \\cdot log_2(\\frac{6}{3}) + 2 \\cdot log_2(\\frac{6}{2}) + 1 \\cdot log_2(\\frac{6}{1})$\n",
    "\n",
    "Если разделить на число символов в сообщении то мы получим количество информации в среднем на один символ передаваемого сообщения\n",
    "\n",
    "\n",
    "                                        \n",
    "$\\frac{3}{6} \\cdot log_2(\\frac{6}{3}) + \\frac{2}{6} \\cdot log_2(\\frac{6}{2}) + \\frac{1}{6} \\cdot log_2(\\frac{6}{1})$\n",
    "\n",
    "Что при оценки всех возможных сообщений при данном неравномерном кодировании приводит нас к формуле Шеннона:\n"
   ]
  },
  {
   "cell_type": "markdown",
   "metadata": {},
   "source": [
    "$ H = - \\sum p_i log_2(p_i) = \\sum p_i log_2(\\frac{1}{p_i})$"
   ]
  },
  {
   "cell_type": "code",
   "execution_count": null,
   "metadata": {},
   "outputs": [],
   "source": []
  }
 ],
 "metadata": {
  "kernelspec": {
   "display_name": "Python 3",
   "language": "python",
   "name": "python3"
  },
  "language_info": {
   "codemirror_mode": {
    "name": "ipython",
    "version": 3
   },
   "file_extension": ".py",
   "mimetype": "text/x-python",
   "name": "python",
   "nbconvert_exporter": "python",
   "pygments_lexer": "ipython3",
   "version": "3.10.6"
  }
 },
 "nbformat": 4,
 "nbformat_minor": 4
}
