{
 "cells": [
  {
   "cell_type": "code",
   "execution_count": null,
   "metadata": {},
   "outputs": [],
   "source": [
    "1100 1010 1111 01"
   ]
  },
  {
   "cell_type": "code",
   "execution_count": null,
   "metadata": {},
   "outputs": [],
   "source": [
    "0000 0\n",
    "0001 1\n",
    "0010 2\n",
    "...\n",
    "1001 9\n",
    "1010 A\n",
    "...\n",
    "1111 F"
   ]
  },
  {
   "cell_type": "code",
   "execution_count": null,
   "metadata": {},
   "outputs": [],
   "source": [
    "011 001 010 111 101"
   ]
  },
  {
   "cell_type": "code",
   "execution_count": null,
   "metadata": {},
   "outputs": [],
   "source": [
    "000 0\n",
    "001 1\n",
    "010 2\n",
    "...\n",
    "111 7"
   ]
  },
  {
   "cell_type": "code",
   "execution_count": null,
   "metadata": {},
   "outputs": [],
   "source": [
    "765 = 7 * 8 **2 + 6 * 8 **1 + 5 * 8 ** 0"
   ]
  },
  {
   "cell_type": "code",
   "execution_count": null,
   "metadata": {},
   "outputs": [],
   "source": [
    "253 - 176 = 77\n",
    "\n",
    "999 - 176 = 823\n",
    "253 + 823 = 1076\n",
    "1076 + 1 - 1000 = 77\n",
    "\n",
    "(999 - 176) + 253 + 1 - 1000 = 253 - 176"
   ]
  },
  {
   "cell_type": "code",
   "execution_count": null,
   "metadata": {},
   "outputs": [],
   "source": [
    "176 - 253 = -77\n",
    "\n",
    "\n",
    "(999 - 253) + 176 + 1 - 1000 = -77\n",
    "\n",
    "1000 - (1 + ((999 - 253) + 176)) = 77"
   ]
  },
  {
   "cell_type": "code",
   "execution_count": null,
   "metadata": {},
   "outputs": [],
   "source": [
    "200 - 800\n",
    "\n",
    "200 + 199 + 1\n",
    "\n",
    "400\n",
    "\n",
    "1"
   ]
  },
  {
   "cell_type": "code",
   "execution_count": null,
   "metadata": {},
   "outputs": [],
   "source": [
    "4\n",
    "-4"
   ]
  },
  {
   "cell_type": "code",
   "execution_count": 1,
   "metadata": {},
   "outputs": [
    {
     "ename": "SyntaxError",
     "evalue": "invalid syntax (<ipython-input-1-8b8f43687fdc>, line 1)",
     "output_type": "error",
     "traceback": [
      "\u001b[1;36m  File \u001b[1;32m\"<ipython-input-1-8b8f43687fdc>\"\u001b[1;36m, line \u001b[1;32m1\u001b[0m\n\u001b[1;33m    4.to_bytes(1, byteorder='big')\u001b[0m\n\u001b[1;37m      ^\u001b[0m\n\u001b[1;31mSyntaxError\u001b[0m\u001b[1;31m:\u001b[0m invalid syntax\n"
     ]
    }
   ],
   "source": [
    "4.to_bytes(1, byteorder='big')"
   ]
  },
  {
   "cell_type": "code",
   "execution_count": 8,
   "metadata": {},
   "outputs": [
    {
     "data": {
      "text/plain": [
       "(b'\\x01', b'\\xff')"
      ]
     },
     "execution_count": 8,
     "metadata": {},
     "output_type": "execute_result"
    }
   ],
   "source": [
    "int.to_bytes(1, 1, byteorder=\"little\"), \\\n",
    "    int.to_bytes(-1, 1, byteorder=\"little\", signed=True)"
   ]
  },
  {
   "cell_type": "code",
   "execution_count": null,
   "metadata": {},
   "outputs": [],
   "source": [
    "0 00000001, 1 11111111"
   ]
  },
  {
   "cell_type": "code",
   "execution_count": 3,
   "metadata": {},
   "outputs": [
    {
     "name": "stdout",
     "output_type": "stream",
     "text": [
      "Help on method_descriptor:\n",
      "\n",
      "to_bytes(self, /, length, byteorder, *, signed=False)\n",
      "    Return an array of bytes representing an integer.\n",
      "    \n",
      "    length\n",
      "      Length of bytes object to use.  An OverflowError is raised if the\n",
      "      integer is not representable with the given number of bytes.\n",
      "    byteorder\n",
      "      The byte order used to represent the integer.  If byteorder is 'big',\n",
      "      the most significant byte is at the beginning of the byte array.  If\n",
      "      byteorder is 'little', the most significant byte is at the end of the\n",
      "      byte array.  To request the native byte order of the host system, use\n",
      "      `sys.byteorder' as the byte order value.\n",
      "    signed\n",
      "      Determines whether two's complement is used to represent the integer.\n",
      "      If signed is False and a negative integer is given, an OverflowError\n",
      "      is raised.\n",
      "\n"
     ]
    }
   ],
   "source": [
    "help(int.to_bytes)"
   ]
  },
  {
   "cell_type": "code",
   "execution_count": 9,
   "metadata": {},
   "outputs": [
    {
     "data": {
      "text/plain": [
       "3"
      ]
     },
     "execution_count": 9,
     "metadata": {},
     "output_type": "execute_result"
    }
   ],
   "source": [
    "2**2 - 1"
   ]
  },
  {
   "cell_type": "code",
   "execution_count": null,
   "metadata": {},
   "outputs": [],
   "source": [
    "11"
   ]
  },
  {
   "cell_type": "code",
   "execution_count": null,
   "metadata": {},
   "outputs": [],
   "source": [
    "-127 + 124 = -3\n",
    "\n"
   ]
  },
  {
   "cell_type": "code",
   "execution_count": 10,
   "metadata": {},
   "outputs": [
    {
     "data": {
      "text/plain": [
       "873"
      ]
     },
     "execution_count": 10,
     "metadata": {},
     "output_type": "execute_result"
    }
   ],
   "source": [
    "1000-127"
   ]
  },
  {
   "cell_type": "code",
   "execution_count": 13,
   "metadata": {},
   "outputs": [
    {
     "data": {
      "text/plain": [
       "3"
      ]
     },
     "execution_count": 13,
     "metadata": {},
     "output_type": "execute_result"
    }
   ],
   "source": [
    "1000 - (873 + 124)"
   ]
  },
  {
   "cell_type": "code",
   "execution_count": null,
   "metadata": {},
   "outputs": [],
   "source": []
  }
 ],
 "metadata": {
  "kernelspec": {
   "display_name": "Python 3",
   "language": "python",
   "name": "python3"
  },
  "language_info": {
   "codemirror_mode": {
    "name": "ipython",
    "version": 3
   },
   "file_extension": ".py",
   "mimetype": "text/x-python",
   "name": "python",
   "nbconvert_exporter": "python",
   "pygments_lexer": "ipython3",
   "version": "3.8.6"
  }
 },
 "nbformat": 4,
 "nbformat_minor": 4
}
