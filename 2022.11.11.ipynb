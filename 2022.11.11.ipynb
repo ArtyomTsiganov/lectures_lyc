{
 "cells": [
  {
   "cell_type": "markdown",
   "metadata": {},
   "source": [
    "\n",
    "\n",
    "Кодирование\n",
    "\n",
    "Формула Хартли или хартлиевское количество информации или мера Хартли — логарифмическая мера информации, которая определяет количество информации, содержащееся в сообщении. $I = K log_2 N$  \n",
    "Где N — количество символов в используемом алфавите (мощность алфавита), K — длина сообщения (количество символов в сообщении), I — количество информации в сообщении в битах.\n",
    "\n",
    "Равномерное кодирование\n",
    "\n",
    "Неравномерное кодирование\n",
    "\n",
    "Условие Фано\n",
    "ни одно кодовое слово не может выступать в качестве начала любого другого кодового слова\n",
    "\n",
    "Бинарное кодовое дерево\n",
    "\n",
    "Кодовое дерево (дерево кодирования Хаффмана, Н-дерево)\n",
    "\n",
    "Информационная энтропия"
   ]
  },
  {
   "cell_type": "code",
   "execution_count": null,
   "metadata": {},
   "outputs": [],
   "source": [
    "1 1 1 1 1 2 2 2 2 10 10"
   ]
  },
  {
   "cell_type": "code",
   "execution_count": null,
   "metadata": {},
   "outputs": [],
   "source": []
  }
 ],
 "metadata": {
  "kernelspec": {
   "display_name": "Python 3",
   "language": "python",
   "name": "python3"
  },
  "language_info": {
   "codemirror_mode": {
    "name": "ipython",
    "version": 3
   },
   "file_extension": ".py",
   "mimetype": "text/x-python",
   "name": "python",
   "nbconvert_exporter": "python",
   "pygments_lexer": "ipython3",
   "version": "3.8.6"
  }
 },
 "nbformat": 4,
 "nbformat_minor": 4
}
