{
 "cells": [
  {
   "cell_type": "markdown",
   "metadata": {},
   "source": [
    "| Название  | И | ИЛИ |\n",
    "| ------------- | ------------- | ------------- |\n",
    "| Двойное отрицание | $$\\overline{\\overline{A}}=A$$  | $$\\overline{\\overline{A}}=A$$ |\n",
    "| Исключение третьего  | $$A \\cdot \\overline{A}=0$$  | $$A + \\overline{A}=1$$  |\n",
    "| Операции с константами | $$ A \\cdot 0 = 0, A \\cdot 1 = A$$ | $$A + 0 = A, A + 1 = 1$$ |\n",
    "| Повторения | $$A \\cdot A = A$$ | $$ A + A = A$$ |\n",
    "| Поглощения | $$A \\cdot (A + B) = A$$ | $$A + A \\cdot B = A$$ |\n",
    "| Переместительный | $$A \\cdot B = B \\cdot A$$ | $$ A + B = B + A$$ |\n",
    "| Сочетательный | $$A \\cdot (B \\cdot C) = (A \\cdot B) \\cdot C$$ | $$A + (B + C) = (A + B) + C$$ |\n",
    "| Распределительный | $$A + B \\cdot C = (A + B) \\cdot (A + C)$$| $$A \\cdot (B + C) = A \\cdot B + A \\cdot C$$ |\n",
    "| Законы де Моргана | $$\\overline{A \\cdot B} = \\overline{A} + \\overline{B}$$ | $$\\overline{A + B} = \\overline{A} \\cdot \\overline{B}$$ |\n",
    " "
   ]
  },
  {
   "cell_type": "markdown",
   "metadata": {},
   "source": [
    "$A \\Leftrightarrow B = A \\cdot B + \\overline{A} \\cdot \\overline{B}$  \n",
    "$A \\to B = \\overline{A} + B$"
   ]
  },
  {
   "cell_type": "markdown",
   "metadata": {},
   "source": [
    "### Задача1\n",
    "$A \\cdot B \\cdot \\overline{A} \\cdot B + B = B$"
   ]
  },
  {
   "cell_type": "markdown",
   "metadata": {},
   "source": [
    "$(A + B) \\cdot (\\overline{A} + \\overline{B}) = A\\overline{A} + B\\overline{A} + A\\overline{B} + B\\overline{B} = B\\overline{A} + A\\overline{B} =$ A ^ B"
   ]
  },
  {
   "cell_type": "markdown",
   "metadata": {},
   "source": [
    "$A + A\\cdot B + A \\cdot C = A $"
   ]
  },
  {
   "cell_type": "markdown",
   "metadata": {},
   "source": [
    "$\\overline{X \\cdot Y} + (X \\cdot Y) + Z = 1$"
   ]
  },
  {
   "cell_type": "markdown",
   "metadata": {},
   "source": [
    "$X \\cdot (X + Y) \\cdot \\overline{Y} = (X + X \\cdot Y)\\overline{Y} = X\\overline{Y} $"
   ]
  },
  {
   "cell_type": "markdown",
   "metadata": {},
   "source": [
    "$X \\cdot (X  + Y) \\cdot \\overline{X} = $"
   ]
  },
  {
   "cell_type": "markdown",
   "metadata": {},
   "source": [
    "$(A + B \\cdot \\overline{C}) + (A + B \\cdot C) + C + A = A + B \\cdot \\overline{C} + A + B \\cdot C + C + A = A + B + C$ "
   ]
  },
  {
   "cell_type": "markdown",
   "metadata": {},
   "source": [
    "$(A + B \\cdot \\overline{C}) + (A + B \\cdot C) + C + A = (A + B) \\cdot (\\overline{C} + C) + C + A  = A + B + C$ "
   ]
  },
  {
   "cell_type": "markdown",
   "metadata": {},
   "source": [
    "$A \\cdot (\\overline{C} + C) + B \\cdot \\overline{C} = A \\cdot C + A \\cdot \\overline{C} + B \\cdot \\overline{C} = A \\cdot C + (A + B) \\cdot \\overline{C}$\n",
    "$A \\cdot (\\overline{C} + C) + B \\cdot C = A \\cdot C + A \\cdot \\overline{C} + B \\cdot C = A \\cdot \\overline{C} + (A + B) \\cdot C$"
   ]
  },
  {
   "cell_type": "markdown",
   "metadata": {},
   "source": [
    "$A + \\overline{A + B} + \\overline{A} \\cdot B = A + \\overline{A} \\cdot \\overline{B} + \\overline{A} \\cdot B = 1$"
   ]
  },
  {
   "cell_type": "code",
   "execution_count": null,
   "metadata": {},
   "outputs": [],
   "source": []
  },
  {
   "cell_type": "markdown",
   "metadata": {},
   "source": [
    "$A \\to B = \\overline{A} + B$"
   ]
  },
  {
   "cell_type": "code",
   "execution_count": null,
   "metadata": {},
   "outputs": [],
   "source": []
  },
  {
   "cell_type": "markdown",
   "metadata": {},
   "source": [
    "$A \\cdot \\overline{\\overline{C} + \\overline{B}} + \\overline{\\overline{A} + \\overline{B}} \\cdot C + A \\cdot C = A \\cdot C$"
   ]
  },
  {
   "cell_type": "markdown",
   "metadata": {},
   "source": [
    "$\\overline{\\overline{A} \\to \\overline{B}} + \\overline{\\overline{A} \\to B} + A \\cdot B = \\overline{A} \\cdot B + \\overline{A} \\cdot \\overline{B} + A \\cdot B = \\overline{A} + A \\cdot B = (\\overline{A} + A) \\cdot (\\overline{A} + B) = \\overline{A} + B$"
   ]
  },
  {
   "cell_type": "markdown",
   "metadata": {},
   "source": [
    "$\\overline{A} \\cdot B + \\overline{A} \\cdot \\overline{B} + A \\cdot B$"
   ]
  },
  {
   "cell_type": "markdown",
   "metadata": {},
   "source": [
    "$\\overline{\\overline{A} \\to B} \\cdot \\overline{A \\to B} = \\overline{A} \\cdot \\overline{B} \\cdot A \\cdot \\overline{B} = 0$"
   ]
  },
  {
   "cell_type": "markdown",
   "metadata": {},
   "source": [
    "$A + \\overline{B \\cdot \\overline{C}} + \\overline{A \\to \\overline{\\overline{B} \\cdot C}} = $"
   ]
  },
  {
   "cell_type": "markdown",
   "metadata": {},
   "source": [
    "$A + \\overline{B} + C + \\overline{\\overline{A} + \\overline{\\overline{B} \\cdot C}} = $"
   ]
  },
  {
   "cell_type": "markdown",
   "metadata": {},
   "source": [
    "$A + \\overline{B} + C + A \\cdot \\overline{B} \\cdot C = $"
   ]
  },
  {
   "cell_type": "markdown",
   "metadata": {},
   "source": [
    "$A + \\overline{B} + C$"
   ]
  },
  {
   "cell_type": "markdown",
   "metadata": {},
   "source": [
    "### Самостоятельная"
   ]
  },
  {
   "cell_type": "markdown",
   "metadata": {},
   "source": [
    "$\\overline{x}\\cdot y \\cdot \\overline{z} + \\overline{x} \\cdot y \\cdot z + x \\cdot \\overline{y} \\cdot z + x \\cdot y \\cdot \\overline{z} + x \\cdot y \\cdot z = y + xz$"
   ]
  },
  {
   "cell_type": "markdown",
   "metadata": {},
   "source": [
    "$(A + \\overline{B} + C)\\cdot(A + \\overline{B} + \\overline{C})\\cdot(\\overline{A} + B + C)\\cdot(\\overline{A} + \\overline{B} + \\overline{C})\\cdot(\\overline{A} + \\overline{B} + C) = \\overline{B} \\cdot (C + \\overline{A})$"
   ]
  },
  {
   "cell_type": "markdown",
   "metadata": {},
   "source": [
    "$\\overline{AB \\to A + \\overline{B} \\Leftrightarrow \\overline{A}} \\cdot (A + \\overline{A\\overline{B}}\\cdot(A \\to B)) = A$"
   ]
  },
  {
   "cell_type": "markdown",
   "metadata": {},
   "source": [
    "$(\\overline{AC} \\Leftrightarrow \\overline{A} + \\overline{B} \\to \\overline{C}(A + B)) \\cdot A + \\overline{C} = A\\overline{B} + \\overline{C}$"
   ]
  },
  {
   "cell_type": "markdown",
   "metadata": {},
   "source": [
    "## Решите уравнения"
   ]
  },
  {
   "cell_type": "markdown",
   "metadata": {},
   "source": [
    "$(A \\to C) \\cdot (A \\to \\overline{C}) \\cdot (\\overline{A} \\to (C \\cdot \\overline{B} \\cdot D)) = 1$"
   ]
  },
  {
   "cell_type": "markdown",
   "metadata": {},
   "source": [
    "$(\\overline{A} + C) \\cdot (\\overline{A} + \\overline{C}) \\cdot (\\overline{A} + (C \\cdot \\overline{B} \\cdot D)) = 1$"
   ]
  },
  {
   "cell_type": "markdown",
   "metadata": {},
   "source": []
  },
  {
   "cell_type": "markdown",
   "metadata": {},
   "source": [
    "# Сколько различных решений имеют уравнения"
   ]
  },
  {
   "cell_type": "markdown",
   "metadata": {},
   "source": [
    "$(\\overline{A} + \\overline{B} + \\overline{C}) \\cdot (B + \\overline{C} + \\overline{D}) = 0$"
   ]
  },
  {
   "cell_type": "code",
   "execution_count": null,
   "metadata": {},
   "outputs": [],
   "source": []
  }
 ],
 "metadata": {
  "kernelspec": {
   "display_name": "Python 3",
   "language": "python",
   "name": "python3"
  },
  "language_info": {
   "codemirror_mode": {
    "name": "ipython",
    "version": 3
   },
   "file_extension": ".py",
   "mimetype": "text/x-python",
   "name": "python",
   "nbconvert_exporter": "python",
   "pygments_lexer": "ipython3",
   "version": "3.10.6"
  }
 },
 "nbformat": 4,
 "nbformat_minor": 4
}
