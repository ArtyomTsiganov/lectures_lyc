{
 "cells": [
  {
   "cell_type": "markdown",
   "metadata": {},
   "source": [
    "# 2023.01.13\n",
    "нет дз"
   ]
  },
  {
   "cell_type": "markdown",
   "metadata": {},
   "source": [
    "# 2023.01.14\n",
    "написать в файлах  \n",
    "struct_data.py  \n",
    "struct_data_test.py  \n",
    "dz230114\n",
    "\n",
    "в struct_data.py написать класс очереди и стека  \n",
    "в struct_data_test.py написать тесты на все классы файла struct_data.py - очередь, стек, двусвязный список, массив\n",
    "\n",
    "исходный код лежит в 20230114/main.py"
   ]
  },
  {
   "cell_type": "markdown",
   "metadata": {},
   "source": [
    "# 2023.01.20\n",
    "\n",
    "Задачи\n",
    "\n",
    "1. Неповторяющиеся целые числа в массиве\n",
    "2. Сортировка значений в стеке\n",
    "3. Генерация двоичных чисел от 1 до N с помощью очереди\n",
    "4. Удаление дубликатов из связанного списка\n",
    "\n",
    "dz230120\n",
    ">    dz.py\n",
    ">>        def unique_numbers(l: list) -> list:  # использовать только списки\n",
    ">>        def sort_stack(s: deque) -> None:  # только на стеках (не больше 4 включая тот что передается)\n",
    ">>        def generate_binary_numbers(n: int) -> list[str]:  # только на очередях\n",
    ">>        def del_dublicate_linked_list(l: LinkedList) -> None: \n",
    ">>        def merge_sort(l: LinkedList) -> Node:  # можно использовать рекурсию\n",
    ">    dz_test.py"
   ]
  },
  {
   "cell_type": "markdown",
   "metadata": {},
   "source": [
    "# 2023.01.21"
   ]
  },
  {
   "cell_type": "markdown",
   "metadata": {},
   "source": [
    "dz230121\n",
    ">    dz.py\n",
    ">>        def main  # загружает csv файл и вызывает другие методы чтобы сохранить 3 представления графа \n",
    ">>        def list_ribbles(list_data, filename) # csv ему передается список списков и он формирует список ребер и умеет сохранять его в файл\n",
    ">>        def adjacency_matrix(list_data, filename) # csv    data = pd.DataFrame(array)    data.to_csv(index=False, title=False)\n",
    ">>        def adjacency_list(list_data, filename) # txt\n",
    "\n",
    "имена файлов для сохранения совпадают с именами функций"
   ]
  },
  {
   "cell_type": "markdown",
   "metadata": {},
   "source": [
    "# 2023.01.27"
   ]
  },
  {
   "cell_type": "code",
   "execution_count": null,
   "metadata": {},
   "outputs": [],
   "source": [
    "dz230127\n",
    "    dz.py\n",
    "\n",
    "\n",
    "from typing import Dict, List\n",
    "\n",
    "\n",
    "def dfs(al:Dict[str, List[str]], start:str, finish:str) -> List[str]:\n",
    "    # реализация через рекурсию или стек\n",
    "    pass\n",
    "\n",
    "def bfs(al:Dict[str, List[str]], start:str, finish:str) -> List[str]:\n",
    "    # реализация через очередь\n",
    "    pass\n",
    "\n",
    "def adjency_list_from_file(filename: str) -> Dict[str, List[str]]:\n",
    "    # считывает файл и возврает список смежности в виде словаря\n",
    "    pass\n",
    "\n",
    "    dz_test.py\n",
    "    # тесты на dz.py\n",
    "    \n",
    "    main.py\n",
    "    \n",
    "def main(filename: str, from_city: str, to_city:str):\n",
    "    # напечатать дважды путь из города from_city до города to_city либо что его нет. используя bfs и dfs\n",
    "\n",
    "if __name__ == \"__main__\":\n",
    "    # python main.py adjacency_list.txt москва екатеринбург\n",
    "    filename, from_city, to_city = sys.argv[1], sys.argv[2], sys.argv[3]\n",
    "    main(filename, from_city, to_city)"
   ]
  }
 ],
 "metadata": {
  "kernelspec": {
   "display_name": "Python 3",
   "language": "python",
   "name": "python3"
  },
  "language_info": {
   "codemirror_mode": {
    "name": "ipython",
    "version": 3
   },
   "file_extension": ".py",
   "mimetype": "text/x-python",
   "name": "python",
   "nbconvert_exporter": "python",
   "pygments_lexer": "ipython3",
   "version": "3.8.6"
  }
 },
 "nbformat": 4,
 "nbformat_minor": 4
}
