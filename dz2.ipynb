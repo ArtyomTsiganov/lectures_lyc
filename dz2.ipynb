{
 "cells": [
  {
   "cell_type": "markdown",
   "metadata": {},
   "source": [
    "# 2023.01.13\n",
    "нет дз"
   ]
  },
  {
   "cell_type": "markdown",
   "metadata": {},
   "source": [
    "# 2023.01.14\n",
    "написать в файлах  \n",
    "struct_data.py  \n",
    "struct_data_test.py  \n",
    "dz230114\n",
    "\n",
    "в struct_data.py написать класс очереди и стека  \n",
    "в struct_data_test.py написать тесты на все классы файла struct_data.py - очередь, стек, двусвязный список, массив\n",
    "\n",
    "исходный код лежит в 20230114/main.py"
   ]
  },
  {
   "cell_type": "markdown",
   "metadata": {},
   "source": [
    "# 2023.01.20\n",
    "\n",
    "Задачи\n",
    "\n",
    "1. Первые неповторяющиеся целые числа в массиве\n",
    "2. Сортировка значений в стеке\n",
    "3. Генерация двоичных чисел от 1 до N с помощью очереди\n",
    "4. Удаление дубликатов из связанного списка\n",
    "\n",
    "dz230120/\n",
    ">    struct_data.py  \n",
    ">    struct_data_test.py  \n",
    ">    dz.py\n",
    ">>        def first_unique_number(l: ArrayList) -> list:\n",
    ">>        def sort_stack(s: Stack) -> None:\n",
    ">>        def generate_binary_number(n: int) -> list[str]:\n",
    ">>        def del_dublicate_linked_list(l: DoubleLinkedList) -> None:\n",
    ">    dz_test.py"
   ]
  },
  {
   "cell_type": "markdown",
   "metadata": {},
   "source": [
    "# 2023.01.21"
   ]
  },
  {
   "cell_type": "code",
   "execution_count": null,
   "metadata": {},
   "outputs": [],
   "source": []
  }
 ],
 "metadata": {
  "kernelspec": {
   "display_name": "Python 3",
   "language": "python",
   "name": "python3"
  },
  "language_info": {
   "codemirror_mode": {
    "name": "ipython",
    "version": 3
   },
   "file_extension": ".py",
   "mimetype": "text/x-python",
   "name": "python",
   "nbconvert_exporter": "python",
   "pygments_lexer": "ipython3",
   "version": "3.8.6"
  }
 },
 "nbformat": 4,
 "nbformat_minor": 4
}
