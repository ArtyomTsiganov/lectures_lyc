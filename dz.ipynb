{
 "cells": [
  {
   "cell_type": "markdown",
   "metadata": {},
   "source": [
    "# dz220902"
   ]
  },
  {
   "cell_type": "markdown",
   "metadata": {},
   "source": [
    "написать консольную игру"
   ]
  },
  {
   "cell_type": "markdown",
   "metadata": {},
   "source": [
    "# dz220909"
   ]
  },
  {
   "cell_type": "markdown",
   "metadata": {},
   "source": [
    "Работа в классе\n",
    "\n",
    "Напишите функцию которая принимает строку и возвращает число. \n",
    "Строка начинает с букв а заканчивается числом, количество букв не известно может быть ноль.\n",
    "Число точно не меньше одной цифры\n",
    "\n",
    "Примеры для тестирования:\n",
    "'s1', 's132', 'asdf111', '111'\n",
    "\n",
    "Домашняя работа\n",
    "\n",
    "Напишите функцию, которая по имени файла, классу и оценке возвращает список учеников учащихся в этом классе и с такой оценкой\n",
    "def get_name(file_name, klass, value):  \n",
    "    pass\n",
    "\n",
    "\n",
    "\n",
    "get_name(\"klass.csv\", \"10n\", 5)"
   ]
  },
  {
   "cell_type": "markdown",
   "metadata": {},
   "source": [
    "# dz220910"
   ]
  },
  {
   "cell_type": "markdown",
   "metadata": {},
   "source": [
    "написать не рекурсивный вариант функции вычисляющей числа Фибоначи"
   ]
  },
  {
   "cell_type": "markdown",
   "metadata": {},
   "source": [
    "# dz220916"
   ]
  },
  {
   "cell_type": "markdown",
   "metadata": {},
   "source": [
    "написать бинарный поиск который ищет ближайший элемент к данному и возвращает его индекс\n",
    "\n",
    "def binsearch2(a:list, s) -> int:\n",
    "    pass\n",
    "\n",
    "\n",
    "написать рекурсивный бинарный поиск. если нет четкого совпадения то None\n",
    "def binsearch_rec(a:list, s) -> int:\n",
    "    pass"
   ]
  },
  {
   "cell_type": "markdown",
   "metadata": {},
   "source": [
    "# dz220917"
   ]
  },
  {
   "cell_type": "markdown",
   "metadata": {},
   "source": [
    "Решаем задачи на codeforces.com\n",
    "\n",
    "975/C A\n",
    "816/B\n",
    "1463/A\n",
    "214/A\n",
    "999/A\n",
    "918/A\n",
    "1702/D\n",
    "2/A\n",
    "1566/A"
   ]
  },
  {
   "cell_type": "markdown",
   "metadata": {},
   "source": [
    "# dz220923"
   ]
  },
  {
   "cell_type": "markdown",
   "metadata": {},
   "source": [
    "Дорешать задачи\n",
    "975/C A\n",
    "816/B\n",
    "1463/A\n",
    "214/A\n",
    "999/A\n",
    "918/A\n",
    "1702/D\n",
    "2/A\n",
    "1566/A"
   ]
  },
  {
   "cell_type": "markdown",
   "metadata": {},
   "source": [
    "# dz220924"
   ]
  },
  {
   "cell_type": "markdown",
   "metadata": {},
   "source": [
    "написать сортировки в файле sort.py\n",
    "написать к ним тестирование в файле test_sort.py\n",
    "написать анализ скорости сортировок в файле time_sort.ipynb\n",
    "\n",
    "Прорешать задачи\n",
    "https://codeforces.com/problemset/problem/984/A\n",
    "https://codeforces.com/problemset/problem/141/A\n",
    "https://codeforces.com/problemset/problem/23/C\n",
    "https://codeforces.com/problemset/problem/64/I\n",
    "https://codeforces.com/problemset/problem/339/A"
   ]
  },
  {
   "cell_type": "markdown",
   "metadata": {},
   "source": [
    "# dz220930"
   ]
  },
  {
   "cell_type": "markdown",
   "metadata": {},
   "source": [
    "Написать программу которая выкачивает весь сайт и сохраняет его на диск. Так чтобы все ссылки при открытие локальной копии на внутреннии страницы сайта работали и открывали страницы с локальной копии. Решение оформить как класс.\n",
    "\n",
    "функции:\n",
    "    по тексту и имени файла сохранять текст в этом файле\n",
    "    def save_html(text:str, name:str) -> None:\n",
    "        with open(name, \"w\", encoding=\"utf-8\") as f:\n",
    "            f.write(text)\n",
    "    \n",
    "    скачивает очередную страницу и возвращает текст\n",
    "    def load_html(url:str) -> str:\n",
    "        res = requests.get(url)\n",
    "        return res.text\n",
    "    \n",
    "    находит в тексте все внутренние ссылки\n",
    "    \n",
    "    saved_links = set()\n",
    "    определяет ходили ли мы уже по этой ссылке\n",
    "    def is_saved(url):\n",
    "        return url in saved_links\n",
    "    \n",
    "    устанавливает очередную ссылку как хоженую\n",
    "    def set_saved(url):\n",
    "        saved_links.add(url)\n",
    "    \n",
    "    добавление в множество внутренних ссылок\n",
    "    \n",
    "    преобразование ссылки в имя файла\n",
    "    def link_to_file_name(s:str) -> str:\n",
    "        if s.startwith(\"/\"):\n",
    "            s = s[1:]\n",
    "        s = s.replace(\"/\", \"_\")\n",
    "        if not s.endswith(\".html\"):\n",
    "            s += \".html\"\n",
    "        return s\n",
    "    \n",
    "    в тексте меняет все внутренние ссылки на имена файлов\n",
    "    \n",
    "    if __name__ == __main__"
   ]
  },
  {
   "cell_type": "markdown",
   "metadata": {},
   "source": [
    "# dz221001"
   ]
  },
  {
   "cell_type": "markdown",
   "metadata": {},
   "source": [
    "В классе написать класс который делает изображение в серый цвет\n",
    "\n",
    "\n",
    "В классе - контрольная работа\n",
    "задачи из https://informatics.msk.ru/course/view.php?id=666\n",
    "1. Число Фибоначчи  №112195 https://informatics.msk.ru/mod/statements/view.php?id=11147&chapterid=112195#1\n",
    "2. Среднее для массива №112282 https://informatics.msk.ru/mod/statements/view.php?id=11223&chapterid=112282#1\n",
    "3. Удаление дубликатов №112305 https://informatics.msk.ru/mod/statements/view.php?id=11247&chapterid=112305#1\n",
    "4. Сортировка нечётных №112326 https://informatics.msk.ru/mod/statements/view.php?id=11248&chapterid=112326#1\n",
    "5. Приближенный двоичный поиск №2 https://informatics.msk.ru/mod/statements/view.php?id=11249&chapterid=2#1\n",
    "6. Из римской в десятичную №112355 https://informatics.msk.ru/mod/statements/view.php?id=11250&chapterid=112355#1\n",
    "7. Цветной в чёрно-белый №112385 https://informatics.msk.ru/mod/statements/view.php?id=11404&chapterid=112385#1\n",
    "\n",
    "дорешать задачи которые входили в контрольную до 07.10.22\n",
    "в весь код которые был раньше поместить if __name__ == '__main__': для запускаемых файлов до 07.10.22\n",
    "\n",
    "дописать методы которые поворачивают изображение направо и кверх ногами"
   ]
  },
  {
   "cell_type": "markdown",
   "metadata": {},
   "source": [
    "# dz221007"
   ]
  },
  {
   "cell_type": "markdown",
   "metadata": {},
   "source": [
    "поиск всех вхождений подстроки в строку\n",
    "search_str - название проекта\n",
    "main.py\n",
    "def substring(s:str, substr: str) -> [int]\n",
    "документацию\n",
    "тесты\n",
    "if name == main\n",
    "python main.py abcabcabc abc"
   ]
  },
  {
   "cell_type": "markdown",
   "metadata": {},
   "source": [
    "# dz221008"
   ]
  },
  {
   "cell_type": "markdown",
   "metadata": {},
   "source": [
    "в классе:\n",
    "дописать в класс работы с изображениями еще два метода: смягчение изображения чб и цветное (или только цветное)\n",
    "\n",
    "домой:\n",
    "дописать в класс работы с изображениями еще два метода использующих конкретные значения для окна которым проходимся по изображению. описать тесты и документацию. "
   ]
  },
  {
   "cell_type": "markdown",
   "metadata": {},
   "source": [
    "# dz221014"
   ]
  },
  {
   "cell_type": "markdown",
   "metadata": {},
   "source": [
    "Дорефакторить "
   ]
  },
  {
   "cell_type": "markdown",
   "metadata": {},
   "source": [
    "# dz221015"
   ]
  },
  {
   "cell_type": "markdown",
   "metadata": {},
   "source": [
    "Написать класс с методами, для преобразования из двоичной системы счисления в десятичную и обратно для целых и вещественных чисел.\n",
    "\n",
    "class Digital:\n",
    "    def bin_to_dec(self, val:str) -> int:\n",
    "        pass\n",
    "    \n",
    "    def dec_to_bin(self, val:int) -> str:\n",
    "        pass\n",
    "    \n",
    "    def bin_to_dec_float(self, val:str) -> float:\n",
    "        pass\n",
    "    \n",
    "    def dec_to_bin_float(self, val:float) -> str:\n",
    "        pass"
   ]
  },
  {
   "cell_type": "markdown",
   "metadata": {},
   "source": [
    "# dz221021\n",
    "\n",
    "нет дз"
   ]
  },
  {
   "cell_type": "markdown",
   "metadata": {},
   "source": [
    "# dz221022\n",
    "\n",
    "нет дз"
   ]
  },
  {
   "cell_type": "markdown",
   "metadata": {},
   "source": [
    "# dz221028\n",
    "Контрольную работу доделать"
   ]
  },
  {
   "cell_type": "markdown",
   "metadata": {},
   "source": [
    "# dz221029\n",
    "\n",
    "Дописать вентили для или, не, и-не, или-не, xor"
   ]
  },
  {
   "cell_type": "markdown",
   "metadata": {},
   "source": [
    "# dz221111\n",
    "нет дз"
   ]
  },
  {
   "cell_type": "markdown",
   "metadata": {},
   "source": [
    "# dz221112\n",
    "Дорешать то что решали на уроке"
   ]
  },
  {
   "cell_type": "markdown",
   "metadata": {},
   "source": [
    "# dz221118\n",
    "\n",
    "Увеличить громкость аудиофайла\n",
    "\n",
    "Сгенерировать аудиофайл, который глушит комара за счет эффекта шумоподавления. "
   ]
  },
  {
   "cell_type": "markdown",
   "metadata": {},
   "source": [
    "# dz221119\n",
    "\n",
    "дорешать задачи  на codeforces\n",
    "1474B\n",
    "1701F\n",
    "1699B\n",
    "1684A\n",
    "251A\n",
    "1729B"
   ]
  },
  {
   "cell_type": "markdown",
   "metadata": {},
   "source": [
    "# dz221125\n",
    "\n",
    "дорешать самостоятельную до правильных ответов"
   ]
  },
  {
   "cell_type": "markdown",
   "metadata": {},
   "source": [
    "# dz221126\n",
    "\n",
    "нет дз"
   ]
  }
 ],
 "metadata": {
  "kernelspec": {
   "display_name": "Python 3",
   "language": "python",
   "name": "python3"
  },
  "language_info": {
   "codemirror_mode": {
    "name": "ipython",
    "version": 3
   },
   "file_extension": ".py",
   "mimetype": "text/x-python",
   "name": "python",
   "nbconvert_exporter": "python",
   "pygments_lexer": "ipython3",
   "version": "3.8.6"
  }
 },
 "nbformat": 4,
 "nbformat_minor": 4
}
