{
 "cells": [
  {
   "cell_type": "code",
   "execution_count": null,
   "metadata": {},
   "outputs": [],
   "source": [
    "program0  поменять местами два значения в памяти 80 и 75\n",
    "program1  сложить 80 75\n",
    "program2  сложить 80 75 4\n",
    "program3  вычесть 80 75\n",
    "program4  сложить 150 10\n",
    "program5  умножить 5 на 3\n",
    "program6  поменять местами два значения в памяти 80 и 75 \n",
    "            используя только эти ячейки памяти и регистр а"
   ]
  }
 ],
 "metadata": {
  "kernelspec": {
   "display_name": "Python 3",
   "language": "python",
   "name": "python3"
  },
  "language_info": {
   "codemirror_mode": {
    "name": "ipython",
    "version": 3
   },
   "file_extension": ".py",
   "mimetype": "text/x-python",
   "name": "python",
   "nbconvert_exporter": "python",
   "pygments_lexer": "ipython3",
   "version": "3.8.6"
  }
 },
 "nbformat": 4,
 "nbformat_minor": 5
}
