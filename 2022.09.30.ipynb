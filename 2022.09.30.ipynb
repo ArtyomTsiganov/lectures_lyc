{
 "cells": [
  {
   "cell_type": "markdown",
   "metadata": {},
   "source": [
    "# Парсинг сайтов"
   ]
  },
  {
   "cell_type": "markdown",
   "metadata": {},
   "source": [
    "# HTML"
   ]
  },
  {
   "cell_type": "code",
   "execution_count": 3,
   "metadata": {},
   "outputs": [
    {
     "data": {
      "text/html": [
       "<!DOCTYPE html>\n",
       "<html>\n",
       "    <head>\n",
       "        <title> Заголовок вкладки </title>\n",
       "        <link rel=\"icon\" href=\"/относительный/адрес.png\" type=\"image/png\" />\n",
       "    </head>\n",
       "    <body>\n",
       "        <h1>Заголовок</h1>\n",
       "        <a href=\"/куда/перейти/\">Ссылка на странице</a>\n",
       "        <img src=\"https://www.gimp.org/images/wilbericon.svg\"  \n",
       "             alt='Wilber Icon'>\n",
       "        <video src=\"/\"></video>\n",
       "    </body>\n",
       "</html>\n"
      ],
      "text/plain": [
       "<IPython.core.display.HTML object>"
      ]
     },
     "metadata": {},
     "output_type": "display_data"
    }
   ],
   "source": [
    "%%html\n",
    "<!DOCTYPE html>\n",
    "<html>\n",
    "    <head>\n",
    "        <title> Заголовок вкладки </title>\n",
    "        <link rel=\"icon\" href=\"/относительный/адрес.png\" type=\"image/png\" />\n",
    "    </head>\n",
    "    <body>\n",
    "        <h1>Заголовок</h1>\n",
    "        <a href=\"/куда/перейти/\">Ссылка на странице</a>\n",
    "        <img src=\"https://www.gimp.org/images/wilbericon.svg\"  \n",
    "             alt='Wilber Icon'>\n",
    "        <video src=\"/\"></video>\n",
    "    </body>\n",
    "</html>"
   ]
  },
  {
   "cell_type": "code",
   "execution_count": 7,
   "metadata": {},
   "outputs": [],
   "source": [
    "import requests"
   ]
  },
  {
   "cell_type": "code",
   "execution_count": null,
   "metadata": {},
   "outputs": [],
   "source": []
  },
  {
   "cell_type": "code",
   "execution_count": 8,
   "metadata": {},
   "outputs": [],
   "source": [
    "url = \"https://www.gimp.org/\"\n",
    "res = requests.get(url, verify=False)"
   ]
  },
  {
   "cell_type": "code",
   "execution_count": 13,
   "metadata": {},
   "outputs": [
    {
     "data": {
      "text/plain": [
       "'<!DOCTYPE html>\\n<html lang=\"en\" itemscope itemtype=\"https://schema.org/WebSite\">\\n    <head>\\n        <title>GIMP - GNU Image Manipulation Program</title>\\n        <meta charset=\"utf-8\" />\\n        <meta name=\"viewport\" content=\"width=device-width, initial-scale=1\" />\\n        <link rel=\"icon\" href=\"/images/wilber32.png\" type=\"image/png\" />\\n        <link rel=\"stylesheet\" type=\"text/css\" href=\"/theme/css/normalize.css\" />\\n        <link rel=\"stylesheet\" type=\"text/css\" href=\"/theme/css/grid.css\" />\\n        <link rel=\"stylesheet\" type=\"text/css\" href=\"/theme/css/gimp.css\" />\\n        <link rel=\"stylesheet\" type=\"text/css\" href=\"/theme/css/font-awesome-4.4.0/css/font-awesome.min.css\" />\\n\\n        <link href=\"/theme/css/tipuesearch/tipuesearch.css\" rel=\"stylesheet\">\\n\\n        <link href=\"https://www.gimp.org/feeds/atom.xml\" type=\"application/atom+xml\" rel=\"alternate\" title=\"GIMP Atom Feed\" />\\n        <link href=\"https://www.gimp.org/feeds/rss.xml\" type=\"application/rss+xml\" rel=\"alternate\" title=\"G'"
      ]
     },
     "execution_count": 13,
     "metadata": {},
     "output_type": "execute_result"
    }
   ],
   "source": [
    "res.text[:1000]"
   ]
  },
  {
   "cell_type": "code",
   "execution_count": 14,
   "metadata": {},
   "outputs": [
    {
     "data": {
      "text/plain": [
       "True"
      ]
     },
     "execution_count": 14,
     "metadata": {},
     "output_type": "execute_result"
    }
   ],
   "source": [
    "'<a' in res.text"
   ]
  },
  {
   "cell_type": "code",
   "execution_count": 30,
   "metadata": {},
   "outputs": [
    {
     "data": {
      "text/plain": [
       "-1"
      ]
     },
     "execution_count": 30,
     "metadata": {},
     "output_type": "execute_result"
    }
   ],
   "source": [
    "\"sssss\".find(\"y\")"
   ]
  },
  {
   "cell_type": "code",
   "execution_count": 32,
   "metadata": {},
   "outputs": [],
   "source": [
    "def find_a(s:str, start=0) -> tuple:\n",
    "    start_i = s.find(\"<a\", start)\n",
    "    if start_i == -1:\n",
    "        return -1, -1\n",
    "    href_i = s.find('href=\"', start_i)\n",
    "    href_start = href_i + 6\n",
    "    href_finish = s.find('\"', href_start)\n",
    "    return href_start, href_finish"
   ]
  },
  {
   "cell_type": "code",
   "execution_count": null,
   "metadata": {},
   "outputs": [],
   "source": []
  },
  {
   "cell_type": "code",
   "execution_count": 34,
   "metadata": {},
   "outputs": [],
   "source": [
    "finish_href = 0\n",
    "a = []\n",
    "while True:\n",
    "    start_href, finish_href = find_a(res.text, finish_href)\n",
    "    if finish_href == -1:\n",
    "        break\n",
    "    a.append(res.text[start_href: finish_href])"
   ]
  },
  {
   "cell_type": "code",
   "execution_count": 35,
   "metadata": {},
   "outputs": [
    {
     "data": {
      "text/plain": [
       "['/',\n",
       " '/downloads/',\n",
       " '/news/',\n",
       " '/about/',\n",
       " '/docs/',\n",
       " '/develop/',\n",
       " '/tutorials/',\n",
       " '/donating/',\n",
       " 'https://www.paypal.com/cgi-bin/webscr?cmd=_donations&business=gimp%40gnome%2eorg&lc=US&item_name=Donation%20to%20GIMP%20Project&item_number=106&currency_code=USD',\n",
       " '/',\n",
       " '/news/',\n",
       " '/docs/',\n",
       " '/tutorials/',\n",
       " '#bottom-nav',\n",
       " '#bottom-nav',\n",
       " '/',\n",
       " '/downloads/',\n",
       " '/release-notes/gimp-2.10.html',\n",
       " 'https://git.gnome.org/browse/gimp',\n",
       " 'https://www.gnu.org/licenses/quick-guide-gplv3.en.html',\n",
       " 'news/2022/08/27/gimp-2-99-12-released/',\n",
       " 'news/2022/06/18/gimp-2-10-32-on-microsoft-store/',\n",
       " 'news/2022/06/14/gimp-2-10-32-released/',\n",
       " 'news/2022/06/03/cmyk-in-gsoc-2022/',\n",
       " '/news/',\n",
       " 'https://www.scribus.net/',\n",
       " 'https://inkscape.org',\n",
       " 'http://www.selapa.net/swatchbooker/',\n",
       " 'https://www.scribus.net/',\n",
       " 'https://www.scribus.net/',\n",
       " 'https://inkscape.org',\n",
       " 'https://inkscape.org',\n",
       " 'http://www.selapa.net/swatchbooker/',\n",
       " 'http://www.selapa.net/swatchbooker/',\n",
       " 'https://www.flickr.com/photos/shadowdrama/20786243805',\n",
       " 'http://shadowdrama.net/',\n",
       " 'https://creativecommons.org/licenses/by-sa/4.0/',\n",
       " 'https://pixls.us',\n",
       " 'https://creativecommons.org/licenses/by-sa/4.0/',\n",
       " 'https://www.davidrevoy.com/',\n",
       " 'https://creativecommons.org/licenses/by/3.0/',\n",
       " 'https://madebyoll.in/',\n",
       " 'https://creativecommons.org/licenses/by-sa/4.0/',\n",
       " '/',\n",
       " '/downloads/',\n",
       " '/news/',\n",
       " '/about/',\n",
       " '/docs/',\n",
       " '/donating/',\n",
       " '/develop/',\n",
       " '/tutorials/',\n",
       " '/feeds/atom.xml',\n",
       " '/webmasters.html',\n",
       " 'https://creativecommons.org/licenses/by-sa/4.0/',\n",
       " 'https://www.gimp.org/team.html',\n",
       " 'https://creativecommons.org/licenses/by-sa/4.0/']"
      ]
     },
     "execution_count": 35,
     "metadata": {},
     "output_type": "execute_result"
    }
   ],
   "source": [
    "a"
   ]
  },
  {
   "cell_type": "code",
   "execution_count": null,
   "metadata": {},
   "outputs": [],
   "source": [
    "функции:\n",
    "    по тексту и имени файла сохранять текст в этом файле\n",
    "    def save_html(text:str, name:str) -> None:\n",
    "        with open(name, \"w\", encoding=\"utf-8\") as f:\n",
    "            f.write(text)\n",
    "    \n",
    "    скачивает очередную страницу и возвращает текст\n",
    "    def load_html(url:str) -> str:\n",
    "        res = requests.get(url)\n",
    "        return res.text\n",
    "    \n",
    "    находит в тексте все внутренние ссылки\n",
    "    \n",
    "    saved_links = set()\n",
    "    определяет ходили ли мы уже по этой ссылке\n",
    "    def is_saved(url):\n",
    "        return url in saved_links\n",
    "    \n",
    "    устанавливает очередную ссылку как хоженую\n",
    "    def set_saved(url):\n",
    "        saved_links.add(url)\n",
    "    \n",
    "    добавление в множество внутренних ссылок\n",
    "    \n",
    "    преобразование ссылки в имя файла\n",
    "    def link_to_file_name(s:str) -> str:\n",
    "        if s.startwith(\"/\"):\n",
    "            s = s[1:]\n",
    "        s = s.replace(\"/\", \"_\")\n",
    "        if not s.endswith(\".html\"):\n",
    "            s += \".html\"\n",
    "        return s\n",
    "    \n",
    "    в тексте меняет все внутренние ссылки на имена файлов\n",
    "    \n",
    "    if __name__ == __main__"
   ]
  },
  {
   "cell_type": "code",
   "execution_count": null,
   "metadata": {},
   "outputs": [],
   "source": [
    "0    2, 10,  70, 77, "
   ]
  },
  {
   "cell_type": "code",
   "execution_count": null,
   "metadata": {},
   "outputs": [],
   "source": [
    "a.append(s[0:start_i])\n",
    "a.append(file_name[0])\n",
    "a.append(s[finish_i:start_i])\n",
    "a.append(file_name[1])\n",
    "a.append(s[finish_i:start_i])\n",
    "a.append(fine_name[2])"
   ]
  },
  {
   "cell_type": "code",
   "execution_count": 37,
   "metadata": {},
   "outputs": [
    {
     "data": {
      "text/plain": [
       "True"
      ]
     },
     "execution_count": 37,
     "metadata": {},
     "output_type": "execute_result"
    }
   ],
   "source": [
    "\"/asdf.html\".endswith(\".html\")"
   ]
  },
  {
   "cell_type": "code",
   "execution_count": 21,
   "metadata": {},
   "outputs": [
    {
     "data": {
      "text/plain": [
       "'<a href=\"/\"><img src=\\'/images/wilbericon.svg\\' id=\\'menuWilber\\'  alt=\\'Tiny Wilber\\'> GIMP</a>'"
      ]
     },
     "execution_count": 21,
     "metadata": {},
     "output_type": "execute_result"
    }
   ],
   "source": [
    "res.text[2100:2186+4]"
   ]
  },
  {
   "cell_type": "code",
   "execution_count": 16,
   "metadata": {},
   "outputs": [
    {
     "name": "stdout",
     "output_type": "stream",
     "text": [
      "Help on built-in function find:\n",
      "\n",
      "find(...) method of builtins.str instance\n",
      "    S.find(sub[, start[, end]]) -> int\n",
      "    \n",
      "    Return the lowest index in S where substring sub is found,\n",
      "    such that sub is contained within S[start:end].  Optional\n",
      "    arguments start and end are interpreted as in slice notation.\n",
      "    \n",
      "    Return -1 on failure.\n",
      "\n"
     ]
    }
   ],
   "source": [
    "help(\"s\".find)"
   ]
  },
  {
   "cell_type": "code",
   "execution_count": null,
   "metadata": {},
   "outputs": [],
   "source": [
    "dz300922\n",
    "main.py"
   ]
  }
 ],
 "metadata": {
  "kernelspec": {
   "display_name": "Python 3",
   "language": "python",
   "name": "python3"
  },
  "language_info": {
   "codemirror_mode": {
    "name": "ipython",
    "version": 3
   },
   "file_extension": ".py",
   "mimetype": "text/x-python",
   "name": "python",
   "nbconvert_exporter": "python",
   "pygments_lexer": "ipython3",
   "version": "3.8.6"
  }
 },
 "nbformat": 4,
 "nbformat_minor": 4
}
