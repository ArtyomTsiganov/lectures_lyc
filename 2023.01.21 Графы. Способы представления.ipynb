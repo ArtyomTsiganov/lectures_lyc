{
 "cells": [
  {
   "cell_type": "markdown",
   "metadata": {},
   "source": [
    "Граф это $\\{\\{v_i\\}, \\{(v_i, v_j)\\}\\}$"
   ]
  },
  {
   "cell_type": "markdown",
   "metadata": {},
   "source": [
    "Задание графа списком ребер\n",
    "1 2\n",
    "2 1\n",
    "3 5\n",
    "3 4\n",
    "6 6"
   ]
  },
  {
   "cell_type": "markdown",
   "metadata": {},
   "source": [
    "Ориентированные, не ориентированные\n",
    "Связные, не связные, Полносвязные\n"
   ]
  },
  {
   "cell_type": "markdown",
   "metadata": {},
   "source": [
    "Матрица смежности\n",
    "\n",
    "| | 0 | 1 | 2 | 3 |\n",
    "| -- | -- | -- | -- | -- |\n",
    "| 0 | 0 | 1 | 0 | 1 |\n",
    "| 1 | 1 | 0 | 1 | 0 |\n",
    "| 2 | 0 | 1 | 0 | 1 |\n",
    "| 3 | 1 | 0 | 1 | 0 |"
   ]
  },
  {
   "cell_type": "markdown",
   "metadata": {},
   "source": [
    "Списосок смежности  \n",
    "0 1 2 3  \n",
    "1 0 2  \n",
    "2 0 1 3  \n",
    "3 0 2  \n",
    "4"
   ]
  },
  {
   "cell_type": "markdown",
   "metadata": {},
   "source": [
    "https://rosavtodor.gov.ru/opendata/7717509757-klassifikator/data-2018-02-16T00-00-structure-2015-10-08T00-00.csv"
   ]
  },
  {
   "cell_type": "code",
   "execution_count": 2,
   "metadata": {},
   "outputs": [],
   "source": [
    "import pandas as pd"
   ]
  },
  {
   "cell_type": "code",
   "execution_count": 7,
   "metadata": {},
   "outputs": [],
   "source": [
    "roads = pd.read_csv(\"roads.csv\", encoding=\"cp1251\", sep=\";\")"
   ]
  },
  {
   "cell_type": "code",
   "execution_count": 27,
   "metadata": {},
   "outputs": [
    {
     "data": {
      "text/plain": [
       "0             [Москва, граница с Республикой Белоруссия]\n",
       "1      [Москва, Тула, Орел, Курск, Белгород, граница ...\n",
       "2           [Москва, Калуга, Брянск, граница с Украиной]\n",
       "3      [Москва, Воронеж, Ростов-на-Дону, Краснодар, Н...\n",
       "4        [Москва, Рязань, Пенза, Самара, Уфа, Челябинск]\n",
       "                             ...                        \n",
       "117    [поселка городского типа Тура, аэропорту Тура ...\n",
       "118           [г. Анадыря, аэропорту Анадыря (Угольный)]\n",
       "119                           [Южно-Сахалинск, Корсаков]\n",
       "120                             [Южно-Сахалинск, Холмск]\n",
       "121    [морского порта Петропавловск-Камчатский, аэро...\n",
       "Name: Наименование автомобильных дорог, Length: 122, dtype: object"
      ]
     },
     "execution_count": 27,
     "metadata": {},
     "output_type": "execute_result"
    }
   ],
   "source": [
    "roads[\"Наименование автомобильных дорог\"].str.strip().str.replace(\"\\xa0\" , \" \")\\\n",
    "        .str.replace(\" к \", \" - \").str.replace(\".* от\", \"\", regex=True)\\\n",
    "        .str.replace('\".*\"', '', regex=True).str.strip().str.split(\" - \")"
   ]
  },
  {
   "cell_type": "code",
   "execution_count": 20,
   "metadata": {},
   "outputs": [
    {
     "data": {
      "text/plain": [
       "'\"Беларусь\"\\xa0Москва - граница с Республикой Белоруссия\\xa0'"
      ]
     },
     "execution_count": 20,
     "metadata": {},
     "output_type": "execute_result"
    }
   ],
   "source": [
    "roads[\"Наименование автомобильных дорог\"].iloc[0]"
   ]
  },
  {
   "cell_type": "code",
   "execution_count": null,
   "metadata": {},
   "outputs": [],
   "source": []
  }
 ],
 "metadata": {
  "kernelspec": {
   "display_name": "Python 3",
   "language": "python",
   "name": "python3"
  },
  "language_info": {
   "codemirror_mode": {
    "name": "ipython",
    "version": 3
   },
   "file_extension": ".py",
   "mimetype": "text/x-python",
   "name": "python",
   "nbconvert_exporter": "python",
   "pygments_lexer": "ipython3",
   "version": "3.8.6"
  }
 },
 "nbformat": 4,
 "nbformat_minor": 4
}
